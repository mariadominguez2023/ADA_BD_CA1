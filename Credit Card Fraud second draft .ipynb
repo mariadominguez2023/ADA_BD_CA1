{
 "cells": [
  {
   "cell_type": "markdown",
   "id": "e7ef79a2",
   "metadata": {},
   "source": [
    "## Credit Card Fraud Detection Dataset \n",
    "\n",
    "The Credit Card Fraud Detection from Kaggle has been used in order to apply the theory of Deep learning using Big Data.\n",
    "\n",
    "Data set is 279MB which is considered to be Big Data.\n",
    "\n",
    "A Random Forest model and ANN algorith is going to be prepared to check their performance when usisng big data."
   ]
  },
  {
   "cell_type": "code",
   "execution_count": 253,
   "id": "767a3754",
   "metadata": {},
   "outputs": [],
   "source": [
    "#pip install tensorflow "
   ]
  },
  {
   "cell_type": "code",
   "execution_count": 254,
   "id": "03fa96a2",
   "metadata": {},
   "outputs": [],
   "source": [
    "#pip install keras"
   ]
  },
  {
   "cell_type": "code",
   "execution_count": 255,
   "id": "c985d9c6",
   "metadata": {},
   "outputs": [],
   "source": [
    "#Import the libraries\n",
    "import matplotlib\n",
    "matplotlib.use(\"TkAgg\")\n",
    "import pandas as pd\n",
    "import seaborn as sns\n",
    "import numpy as np\n",
    "from keras.datasets import reuters\n",
    "#from keras.utils.np_utils import to_categorical\n",
    "from keras.preprocessing.text import Tokenizer\n",
    "from keras import models\n",
    "from keras import layers\n",
    "from matplotlib import pyplot as plt \n",
    "%matplotlib inLine\n",
    "sns.set(color_codes=True) \n",
    "import warnings\n",
    "warnings.filterwarnings(\"ignore\")\n"
   ]
  },
  {
   "cell_type": "code",
   "execution_count": 256,
   "id": "6edc160c",
   "metadata": {},
   "outputs": [],
   "source": [
    "#load the dataset\n",
    "Credit = pd.read_csv('Credit.csv')"
   ]
  },
  {
   "cell_type": "code",
   "execution_count": 257,
   "id": "38e95298",
   "metadata": {
    "scrolled": true
   },
   "outputs": [
    {
     "data": {
      "text/html": [
       "<div>\n",
       "<style scoped>\n",
       "    .dataframe tbody tr th:only-of-type {\n",
       "        vertical-align: middle;\n",
       "    }\n",
       "\n",
       "    .dataframe tbody tr th {\n",
       "        vertical-align: top;\n",
       "    }\n",
       "\n",
       "    .dataframe thead th {\n",
       "        text-align: right;\n",
       "    }\n",
       "</style>\n",
       "<table border=\"1\" class=\"dataframe\">\n",
       "  <thead>\n",
       "    <tr style=\"text-align: right;\">\n",
       "      <th></th>\n",
       "      <th>Unnamed: 0</th>\n",
       "      <th>ID</th>\n",
       "      <th>GENDER</th>\n",
       "      <th>CAR</th>\n",
       "      <th>REALITY</th>\n",
       "      <th>NO_OF_CHILD</th>\n",
       "      <th>INCOME</th>\n",
       "      <th>INCOME_TYPE</th>\n",
       "      <th>EDUCATION_TYPE</th>\n",
       "      <th>FAMILY_TYPE</th>\n",
       "      <th>HOUSE_TYPE</th>\n",
       "      <th>FLAG_MOBIL</th>\n",
       "      <th>WORK_PHONE</th>\n",
       "      <th>PHONE</th>\n",
       "      <th>E_MAIL</th>\n",
       "      <th>FAMILY SIZE</th>\n",
       "      <th>BEGIN_MONTH</th>\n",
       "      <th>AGE</th>\n",
       "      <th>YEARS_EMPLOYED</th>\n",
       "      <th>TARGET</th>\n",
       "    </tr>\n",
       "  </thead>\n",
       "  <tbody>\n",
       "    <tr>\n",
       "      <th>0</th>\n",
       "      <td>0</td>\n",
       "      <td>5008806</td>\n",
       "      <td>M</td>\n",
       "      <td>Y</td>\n",
       "      <td>Y</td>\n",
       "      <td>0</td>\n",
       "      <td>112500.0</td>\n",
       "      <td>Working</td>\n",
       "      <td>Secondary / secondary special</td>\n",
       "      <td>Married</td>\n",
       "      <td>House / apartment</td>\n",
       "      <td>1</td>\n",
       "      <td>0</td>\n",
       "      <td>0</td>\n",
       "      <td>0</td>\n",
       "      <td>2</td>\n",
       "      <td>29</td>\n",
       "      <td>59</td>\n",
       "      <td>3</td>\n",
       "      <td>0</td>\n",
       "    </tr>\n",
       "    <tr>\n",
       "      <th>1</th>\n",
       "      <td>1</td>\n",
       "      <td>5008808</td>\n",
       "      <td>F</td>\n",
       "      <td>N</td>\n",
       "      <td>Y</td>\n",
       "      <td>0</td>\n",
       "      <td>270000.0</td>\n",
       "      <td>Commercial associate</td>\n",
       "      <td>Secondary / secondary special</td>\n",
       "      <td>Single / not married</td>\n",
       "      <td>House / apartment</td>\n",
       "      <td>1</td>\n",
       "      <td>0</td>\n",
       "      <td>1</td>\n",
       "      <td>1</td>\n",
       "      <td>1</td>\n",
       "      <td>4</td>\n",
       "      <td>52</td>\n",
       "      <td>8</td>\n",
       "      <td>0</td>\n",
       "    </tr>\n",
       "    <tr>\n",
       "      <th>2</th>\n",
       "      <td>2</td>\n",
       "      <td>5008809</td>\n",
       "      <td>F</td>\n",
       "      <td>N</td>\n",
       "      <td>Y</td>\n",
       "      <td>0</td>\n",
       "      <td>270000.0</td>\n",
       "      <td>Commercial associate</td>\n",
       "      <td>Secondary / secondary special</td>\n",
       "      <td>Single / not married</td>\n",
       "      <td>House / apartment</td>\n",
       "      <td>1</td>\n",
       "      <td>0</td>\n",
       "      <td>1</td>\n",
       "      <td>1</td>\n",
       "      <td>1</td>\n",
       "      <td>26</td>\n",
       "      <td>52</td>\n",
       "      <td>8</td>\n",
       "      <td>0</td>\n",
       "    </tr>\n",
       "    <tr>\n",
       "      <th>3</th>\n",
       "      <td>3</td>\n",
       "      <td>5008810</td>\n",
       "      <td>F</td>\n",
       "      <td>N</td>\n",
       "      <td>Y</td>\n",
       "      <td>0</td>\n",
       "      <td>270000.0</td>\n",
       "      <td>Commercial associate</td>\n",
       "      <td>Secondary / secondary special</td>\n",
       "      <td>Single / not married</td>\n",
       "      <td>House / apartment</td>\n",
       "      <td>1</td>\n",
       "      <td>0</td>\n",
       "      <td>1</td>\n",
       "      <td>1</td>\n",
       "      <td>1</td>\n",
       "      <td>26</td>\n",
       "      <td>52</td>\n",
       "      <td>8</td>\n",
       "      <td>0</td>\n",
       "    </tr>\n",
       "    <tr>\n",
       "      <th>4</th>\n",
       "      <td>4</td>\n",
       "      <td>5008811</td>\n",
       "      <td>F</td>\n",
       "      <td>N</td>\n",
       "      <td>Y</td>\n",
       "      <td>0</td>\n",
       "      <td>270000.0</td>\n",
       "      <td>Commercial associate</td>\n",
       "      <td>Secondary / secondary special</td>\n",
       "      <td>Single / not married</td>\n",
       "      <td>House / apartment</td>\n",
       "      <td>1</td>\n",
       "      <td>0</td>\n",
       "      <td>1</td>\n",
       "      <td>1</td>\n",
       "      <td>1</td>\n",
       "      <td>38</td>\n",
       "      <td>52</td>\n",
       "      <td>8</td>\n",
       "      <td>0</td>\n",
       "    </tr>\n",
       "  </tbody>\n",
       "</table>\n",
       "</div>"
      ],
      "text/plain": [
       "   Unnamed: 0       ID GENDER CAR REALITY  NO_OF_CHILD    INCOME  \\\n",
       "0           0  5008806      M   Y       Y            0  112500.0   \n",
       "1           1  5008808      F   N       Y            0  270000.0   \n",
       "2           2  5008809      F   N       Y            0  270000.0   \n",
       "3           3  5008810      F   N       Y            0  270000.0   \n",
       "4           4  5008811      F   N       Y            0  270000.0   \n",
       "\n",
       "            INCOME_TYPE                 EDUCATION_TYPE           FAMILY_TYPE  \\\n",
       "0               Working  Secondary / secondary special               Married   \n",
       "1  Commercial associate  Secondary / secondary special  Single / not married   \n",
       "2  Commercial associate  Secondary / secondary special  Single / not married   \n",
       "3  Commercial associate  Secondary / secondary special  Single / not married   \n",
       "4  Commercial associate  Secondary / secondary special  Single / not married   \n",
       "\n",
       "          HOUSE_TYPE  FLAG_MOBIL  WORK_PHONE  PHONE  E_MAIL  FAMILY SIZE  \\\n",
       "0  House / apartment           1           0      0       0            2   \n",
       "1  House / apartment           1           0      1       1            1   \n",
       "2  House / apartment           1           0      1       1            1   \n",
       "3  House / apartment           1           0      1       1            1   \n",
       "4  House / apartment           1           0      1       1            1   \n",
       "\n",
       "   BEGIN_MONTH  AGE  YEARS_EMPLOYED  TARGET  \n",
       "0           29   59               3       0  \n",
       "1            4   52               8       0  \n",
       "2           26   52               8       0  \n",
       "3           26   52               8       0  \n",
       "4           38   52               8       0  "
      ]
     },
     "execution_count": 257,
     "metadata": {},
     "output_type": "execute_result"
    }
   ],
   "source": [
    "#Checking the first 5 rows\n",
    "Credit.head()"
   ]
  },
  {
   "cell_type": "code",
   "execution_count": 258,
   "id": "20be79e6",
   "metadata": {},
   "outputs": [
    {
     "data": {
      "text/plain": [
       "(25134, 20)"
      ]
     },
     "execution_count": 258,
     "metadata": {},
     "output_type": "execute_result"
    }
   ],
   "source": [
    "#Check the shape of the  data\n",
    "Credit.shape"
   ]
  },
  {
   "cell_type": "code",
   "execution_count": 259,
   "id": "4cecaabf",
   "metadata": {
    "scrolled": false
   },
   "outputs": [
    {
     "name": "stdout",
     "output_type": "stream",
     "text": [
      "<class 'pandas.core.frame.DataFrame'>\n",
      "RangeIndex: 25134 entries, 0 to 25133\n",
      "Data columns (total 20 columns):\n",
      " #   Column          Non-Null Count  Dtype  \n",
      "---  ------          --------------  -----  \n",
      " 0   Unnamed: 0      25134 non-null  int64  \n",
      " 1   ID              25134 non-null  int64  \n",
      " 2   GENDER          25134 non-null  object \n",
      " 3   CAR             25134 non-null  object \n",
      " 4   REALITY         25134 non-null  object \n",
      " 5   NO_OF_CHILD     25134 non-null  int64  \n",
      " 6   INCOME          25134 non-null  float64\n",
      " 7   INCOME_TYPE     25134 non-null  object \n",
      " 8   EDUCATION_TYPE  25134 non-null  object \n",
      " 9   FAMILY_TYPE     25134 non-null  object \n",
      " 10  HOUSE_TYPE      25134 non-null  object \n",
      " 11  FLAG_MOBIL      25134 non-null  int64  \n",
      " 12  WORK_PHONE      25134 non-null  int64  \n",
      " 13  PHONE           25134 non-null  int64  \n",
      " 14  E_MAIL          25134 non-null  int64  \n",
      " 15  FAMILY SIZE     25134 non-null  int64  \n",
      " 16  BEGIN_MONTH     25134 non-null  int64  \n",
      " 17  AGE             25134 non-null  int64  \n",
      " 18  YEARS_EMPLOYED  25134 non-null  int64  \n",
      " 19  TARGET          25134 non-null  int64  \n",
      "dtypes: float64(1), int64(12), object(7)\n",
      "memory usage: 3.8+ MB\n"
     ]
    }
   ],
   "source": [
    "#Checking the types of variables\n",
    "Credit.info()"
   ]
  },
  {
   "cell_type": "code",
   "execution_count": 260,
   "id": "d900c9ea",
   "metadata": {},
   "outputs": [
    {
     "data": {
      "text/html": [
       "<div>\n",
       "<style scoped>\n",
       "    .dataframe tbody tr th:only-of-type {\n",
       "        vertical-align: middle;\n",
       "    }\n",
       "\n",
       "    .dataframe tbody tr th {\n",
       "        vertical-align: top;\n",
       "    }\n",
       "\n",
       "    .dataframe thead th {\n",
       "        text-align: right;\n",
       "    }\n",
       "</style>\n",
       "<table border=\"1\" class=\"dataframe\">\n",
       "  <thead>\n",
       "    <tr style=\"text-align: right;\">\n",
       "      <th></th>\n",
       "      <th>GENDER</th>\n",
       "      <th>CAR</th>\n",
       "      <th>REALITY</th>\n",
       "      <th>INCOME_TYPE</th>\n",
       "      <th>EDUCATION_TYPE</th>\n",
       "      <th>FAMILY_TYPE</th>\n",
       "      <th>HOUSE_TYPE</th>\n",
       "    </tr>\n",
       "  </thead>\n",
       "  <tbody>\n",
       "    <tr>\n",
       "      <th>count</th>\n",
       "      <td>25134</td>\n",
       "      <td>25134</td>\n",
       "      <td>25134</td>\n",
       "      <td>25134</td>\n",
       "      <td>25134</td>\n",
       "      <td>25134</td>\n",
       "      <td>25134</td>\n",
       "    </tr>\n",
       "    <tr>\n",
       "      <th>unique</th>\n",
       "      <td>2</td>\n",
       "      <td>2</td>\n",
       "      <td>2</td>\n",
       "      <td>5</td>\n",
       "      <td>5</td>\n",
       "      <td>5</td>\n",
       "      <td>6</td>\n",
       "    </tr>\n",
       "    <tr>\n",
       "      <th>top</th>\n",
       "      <td>F</td>\n",
       "      <td>N</td>\n",
       "      <td>Y</td>\n",
       "      <td>Working</td>\n",
       "      <td>Secondary / secondary special</td>\n",
       "      <td>Married</td>\n",
       "      <td>House / apartment</td>\n",
       "    </tr>\n",
       "    <tr>\n",
       "      <th>freq</th>\n",
       "      <td>15630</td>\n",
       "      <td>14618</td>\n",
       "      <td>16461</td>\n",
       "      <td>15622</td>\n",
       "      <td>16808</td>\n",
       "      <td>17509</td>\n",
       "      <td>22102</td>\n",
       "    </tr>\n",
       "  </tbody>\n",
       "</table>\n",
       "</div>"
      ],
      "text/plain": [
       "       GENDER    CAR REALITY INCOME_TYPE                 EDUCATION_TYPE  \\\n",
       "count   25134  25134   25134       25134                          25134   \n",
       "unique      2      2       2           5                              5   \n",
       "top         F      N       Y     Working  Secondary / secondary special   \n",
       "freq    15630  14618   16461       15622                          16808   \n",
       "\n",
       "       FAMILY_TYPE         HOUSE_TYPE  \n",
       "count        25134              25134  \n",
       "unique           5                  6  \n",
       "top        Married  House / apartment  \n",
       "freq         17509              22102  "
      ]
     },
     "execution_count": 260,
     "metadata": {},
     "output_type": "execute_result"
    }
   ],
   "source": [
    "#checking categorical values on that dataset\n",
    "Credit.describe(include=object)"
   ]
  },
  {
   "cell_type": "code",
   "execution_count": 261,
   "id": "82faf0f9",
   "metadata": {
    "scrolled": false
   },
   "outputs": [
    {
     "data": {
      "text/plain": [
       "Unnamed: 0        0\n",
       "ID                0\n",
       "GENDER            0\n",
       "CAR               0\n",
       "REALITY           0\n",
       "NO_OF_CHILD       0\n",
       "INCOME            0\n",
       "INCOME_TYPE       0\n",
       "EDUCATION_TYPE    0\n",
       "FAMILY_TYPE       0\n",
       "HOUSE_TYPE        0\n",
       "FLAG_MOBIL        0\n",
       "WORK_PHONE        0\n",
       "PHONE             0\n",
       "E_MAIL            0\n",
       "FAMILY SIZE       0\n",
       "BEGIN_MONTH       0\n",
       "AGE               0\n",
       "YEARS_EMPLOYED    0\n",
       "TARGET            0\n",
       "dtype: int64"
      ]
     },
     "execution_count": 261,
     "metadata": {},
     "output_type": "execute_result"
    }
   ],
   "source": [
    "#checking the null values.\n",
    "Credit.isnull().sum()"
   ]
  },
  {
   "cell_type": "code",
   "execution_count": 262,
   "id": "cd749e5f",
   "metadata": {},
   "outputs": [
    {
     "data": {
      "text/plain": [
       "False"
      ]
     },
     "execution_count": 262,
     "metadata": {},
     "output_type": "execute_result"
    }
   ],
   "source": [
    "Credit.isnull().values.any()"
   ]
  },
  {
   "cell_type": "code",
   "execution_count": 263,
   "id": "b5328758",
   "metadata": {
    "scrolled": false
   },
   "outputs": [
    {
     "data": {
      "text/plain": [
       "Unnamed: 0        0\n",
       "ID                0\n",
       "GENDER            0\n",
       "CAR               0\n",
       "REALITY           0\n",
       "NO_OF_CHILD       0\n",
       "INCOME            0\n",
       "INCOME_TYPE       0\n",
       "EDUCATION_TYPE    0\n",
       "FAMILY_TYPE       0\n",
       "HOUSE_TYPE        0\n",
       "FLAG_MOBIL        0\n",
       "WORK_PHONE        0\n",
       "PHONE             0\n",
       "E_MAIL            0\n",
       "FAMILY SIZE       0\n",
       "BEGIN_MONTH       0\n",
       "AGE               0\n",
       "YEARS_EMPLOYED    0\n",
       "TARGET            0\n",
       "dtype: int64"
      ]
     },
     "execution_count": 263,
     "metadata": {},
     "output_type": "execute_result"
    }
   ],
   "source": [
    "Credit.isnull().sum()"
   ]
  },
  {
   "cell_type": "code",
   "execution_count": 264,
   "id": "debd5fa3",
   "metadata": {},
   "outputs": [
    {
     "data": {
      "text/plain": [
       "Unnamed: 0        25134\n",
       "ID                25134\n",
       "GENDER                2\n",
       "CAR                   2\n",
       "REALITY               2\n",
       "NO_OF_CHILD           9\n",
       "INCOME              195\n",
       "INCOME_TYPE           5\n",
       "EDUCATION_TYPE        5\n",
       "FAMILY_TYPE           5\n",
       "HOUSE_TYPE            6\n",
       "FLAG_MOBIL            1\n",
       "WORK_PHONE            2\n",
       "PHONE                 2\n",
       "E_MAIL                2\n",
       "FAMILY SIZE          10\n",
       "BEGIN_MONTH          61\n",
       "AGE                  47\n",
       "YEARS_EMPLOYED       43\n",
       "TARGET                2\n",
       "dtype: int64"
      ]
     },
     "execution_count": 264,
     "metadata": {},
     "output_type": "execute_result"
    }
   ],
   "source": [
    "#checking for unique values in dataset\n",
    "Credit.nunique()"
   ]
  },
  {
   "cell_type": "code",
   "execution_count": 265,
   "id": "3842a127",
   "metadata": {},
   "outputs": [
    {
     "data": {
      "text/plain": [
       "array([1], dtype=int64)"
      ]
     },
     "execution_count": 265,
     "metadata": {},
     "output_type": "execute_result"
    }
   ],
   "source": [
    "#heart dataset has 8 countries of the eurozone.\n",
    "Credit[\"FLAG_MOBIL\"].unique()"
   ]
  },
  {
   "cell_type": "code",
   "execution_count": 266,
   "id": "ed685734",
   "metadata": {},
   "outputs": [
    {
     "name": "stdout",
     "output_type": "stream",
     "text": [
      "FLAG_MOBIL\n"
     ]
    },
    {
     "data": {
      "text/plain": [
       "0    1\n",
       "1    1\n",
       "2    1\n",
       "3    1\n",
       "4    1\n",
       "5    1\n",
       "6    1\n",
       "7    1\n",
       "8    1\n",
       "9    1\n",
       "Name: FLAG_MOBIL, dtype: int64"
      ]
     },
     "execution_count": 266,
     "metadata": {},
     "output_type": "execute_result"
    }
   ],
   "source": [
    "print('FLAG_MOBIL')\n",
    "Credit['FLAG_MOBIL'].head(10)"
   ]
  },
  {
   "cell_type": "code",
   "execution_count": 267,
   "id": "ca69ae0b",
   "metadata": {},
   "outputs": [],
   "source": [
    "#Columns \"Unnamed: 0, \"ID\" will be dropped as it will not produce any valuable information.\n",
    "#Variable \"Flag Mobil\" will be also removed as it only contains \"1\" number\n",
    "# each row and it will not produce any relevant information for my analysis\n",
    "\n",
    "#Dropping features.\n",
    "Credit = Credit.drop(['Unnamed: 0','ID','FLAG_MOBIL'], axis=1)"
   ]
  },
  {
   "cell_type": "code",
   "execution_count": 268,
   "id": "fac5913b",
   "metadata": {
    "scrolled": false
   },
   "outputs": [
    {
     "data": {
      "text/html": [
       "<div>\n",
       "<style scoped>\n",
       "    .dataframe tbody tr th:only-of-type {\n",
       "        vertical-align: middle;\n",
       "    }\n",
       "\n",
       "    .dataframe tbody tr th {\n",
       "        vertical-align: top;\n",
       "    }\n",
       "\n",
       "    .dataframe thead th {\n",
       "        text-align: right;\n",
       "    }\n",
       "</style>\n",
       "<table border=\"1\" class=\"dataframe\">\n",
       "  <thead>\n",
       "    <tr style=\"text-align: right;\">\n",
       "      <th></th>\n",
       "      <th>GENDER</th>\n",
       "      <th>CAR</th>\n",
       "      <th>REALITY</th>\n",
       "      <th>NO_OF_CHILD</th>\n",
       "      <th>INCOME</th>\n",
       "      <th>INCOME_TYPE</th>\n",
       "      <th>EDUCATION_TYPE</th>\n",
       "      <th>FAMILY_TYPE</th>\n",
       "      <th>HOUSE_TYPE</th>\n",
       "      <th>WORK_PHONE</th>\n",
       "      <th>PHONE</th>\n",
       "      <th>E_MAIL</th>\n",
       "      <th>FAMILY SIZE</th>\n",
       "      <th>BEGIN_MONTH</th>\n",
       "      <th>AGE</th>\n",
       "      <th>YEARS_EMPLOYED</th>\n",
       "      <th>TARGET</th>\n",
       "    </tr>\n",
       "  </thead>\n",
       "  <tbody>\n",
       "    <tr>\n",
       "      <th>0</th>\n",
       "      <td>M</td>\n",
       "      <td>Y</td>\n",
       "      <td>Y</td>\n",
       "      <td>0</td>\n",
       "      <td>112500.0</td>\n",
       "      <td>Working</td>\n",
       "      <td>Secondary / secondary special</td>\n",
       "      <td>Married</td>\n",
       "      <td>House / apartment</td>\n",
       "      <td>0</td>\n",
       "      <td>0</td>\n",
       "      <td>0</td>\n",
       "      <td>2</td>\n",
       "      <td>29</td>\n",
       "      <td>59</td>\n",
       "      <td>3</td>\n",
       "      <td>0</td>\n",
       "    </tr>\n",
       "    <tr>\n",
       "      <th>1</th>\n",
       "      <td>F</td>\n",
       "      <td>N</td>\n",
       "      <td>Y</td>\n",
       "      <td>0</td>\n",
       "      <td>270000.0</td>\n",
       "      <td>Commercial associate</td>\n",
       "      <td>Secondary / secondary special</td>\n",
       "      <td>Single / not married</td>\n",
       "      <td>House / apartment</td>\n",
       "      <td>0</td>\n",
       "      <td>1</td>\n",
       "      <td>1</td>\n",
       "      <td>1</td>\n",
       "      <td>4</td>\n",
       "      <td>52</td>\n",
       "      <td>8</td>\n",
       "      <td>0</td>\n",
       "    </tr>\n",
       "    <tr>\n",
       "      <th>2</th>\n",
       "      <td>F</td>\n",
       "      <td>N</td>\n",
       "      <td>Y</td>\n",
       "      <td>0</td>\n",
       "      <td>270000.0</td>\n",
       "      <td>Commercial associate</td>\n",
       "      <td>Secondary / secondary special</td>\n",
       "      <td>Single / not married</td>\n",
       "      <td>House / apartment</td>\n",
       "      <td>0</td>\n",
       "      <td>1</td>\n",
       "      <td>1</td>\n",
       "      <td>1</td>\n",
       "      <td>26</td>\n",
       "      <td>52</td>\n",
       "      <td>8</td>\n",
       "      <td>0</td>\n",
       "    </tr>\n",
       "    <tr>\n",
       "      <th>3</th>\n",
       "      <td>F</td>\n",
       "      <td>N</td>\n",
       "      <td>Y</td>\n",
       "      <td>0</td>\n",
       "      <td>270000.0</td>\n",
       "      <td>Commercial associate</td>\n",
       "      <td>Secondary / secondary special</td>\n",
       "      <td>Single / not married</td>\n",
       "      <td>House / apartment</td>\n",
       "      <td>0</td>\n",
       "      <td>1</td>\n",
       "      <td>1</td>\n",
       "      <td>1</td>\n",
       "      <td>26</td>\n",
       "      <td>52</td>\n",
       "      <td>8</td>\n",
       "      <td>0</td>\n",
       "    </tr>\n",
       "    <tr>\n",
       "      <th>4</th>\n",
       "      <td>F</td>\n",
       "      <td>N</td>\n",
       "      <td>Y</td>\n",
       "      <td>0</td>\n",
       "      <td>270000.0</td>\n",
       "      <td>Commercial associate</td>\n",
       "      <td>Secondary / secondary special</td>\n",
       "      <td>Single / not married</td>\n",
       "      <td>House / apartment</td>\n",
       "      <td>0</td>\n",
       "      <td>1</td>\n",
       "      <td>1</td>\n",
       "      <td>1</td>\n",
       "      <td>38</td>\n",
       "      <td>52</td>\n",
       "      <td>8</td>\n",
       "      <td>0</td>\n",
       "    </tr>\n",
       "  </tbody>\n",
       "</table>\n",
       "</div>"
      ],
      "text/plain": [
       "  GENDER CAR REALITY  NO_OF_CHILD    INCOME           INCOME_TYPE  \\\n",
       "0      M   Y       Y            0  112500.0               Working   \n",
       "1      F   N       Y            0  270000.0  Commercial associate   \n",
       "2      F   N       Y            0  270000.0  Commercial associate   \n",
       "3      F   N       Y            0  270000.0  Commercial associate   \n",
       "4      F   N       Y            0  270000.0  Commercial associate   \n",
       "\n",
       "                  EDUCATION_TYPE           FAMILY_TYPE         HOUSE_TYPE  \\\n",
       "0  Secondary / secondary special               Married  House / apartment   \n",
       "1  Secondary / secondary special  Single / not married  House / apartment   \n",
       "2  Secondary / secondary special  Single / not married  House / apartment   \n",
       "3  Secondary / secondary special  Single / not married  House / apartment   \n",
       "4  Secondary / secondary special  Single / not married  House / apartment   \n",
       "\n",
       "   WORK_PHONE  PHONE  E_MAIL  FAMILY SIZE  BEGIN_MONTH  AGE  YEARS_EMPLOYED  \\\n",
       "0           0      0       0            2           29   59               3   \n",
       "1           0      1       1            1            4   52               8   \n",
       "2           0      1       1            1           26   52               8   \n",
       "3           0      1       1            1           26   52               8   \n",
       "4           0      1       1            1           38   52               8   \n",
       "\n",
       "   TARGET  \n",
       "0       0  \n",
       "1       0  \n",
       "2       0  \n",
       "3       0  \n",
       "4       0  "
      ]
     },
     "execution_count": 268,
     "metadata": {},
     "output_type": "execute_result"
    }
   ],
   "source": [
    "#Checking credit dataset head after dropping columns\n",
    "Credit.head()"
   ]
  },
  {
   "cell_type": "code",
   "execution_count": 269,
   "id": "3f70a9f6",
   "metadata": {},
   "outputs": [
    {
     "name": "stdout",
     "output_type": "stream",
     "text": [
      "number of duplicate rows:  (2938, 17)\n"
     ]
    }
   ],
   "source": [
    "#checking the duplicates in the dataset\n",
    "duplicate_rows=Credit[Credit.duplicated()] \n",
    "print('number of duplicate rows: ', duplicate_rows.shape)"
   ]
  },
  {
   "cell_type": "code",
   "execution_count": 270,
   "id": "661a17ad",
   "metadata": {
    "scrolled": false
   },
   "outputs": [
    {
     "data": {
      "text/plain": [
       "GENDER            25134\n",
       "CAR               25134\n",
       "REALITY           25134\n",
       "NO_OF_CHILD       25134\n",
       "INCOME            25134\n",
       "INCOME_TYPE       25134\n",
       "EDUCATION_TYPE    25134\n",
       "FAMILY_TYPE       25134\n",
       "HOUSE_TYPE        25134\n",
       "WORK_PHONE        25134\n",
       "PHONE             25134\n",
       "E_MAIL            25134\n",
       "FAMILY SIZE       25134\n",
       "BEGIN_MONTH       25134\n",
       "AGE               25134\n",
       "YEARS_EMPLOYED    25134\n",
       "TARGET            25134\n",
       "dtype: int64"
      ]
     },
     "execution_count": 270,
     "metadata": {},
     "output_type": "execute_result"
    }
   ],
   "source": [
    "# Used to count the number of rows before removing the data \n",
    "Credit.count() "
   ]
  },
  {
   "cell_type": "code",
   "execution_count": 271,
   "id": "ee0f8b09",
   "metadata": {
    "scrolled": true
   },
   "outputs": [
    {
     "data": {
      "text/html": [
       "<div>\n",
       "<style scoped>\n",
       "    .dataframe tbody tr th:only-of-type {\n",
       "        vertical-align: middle;\n",
       "    }\n",
       "\n",
       "    .dataframe tbody tr th {\n",
       "        vertical-align: top;\n",
       "    }\n",
       "\n",
       "    .dataframe thead th {\n",
       "        text-align: right;\n",
       "    }\n",
       "</style>\n",
       "<table border=\"1\" class=\"dataframe\">\n",
       "  <thead>\n",
       "    <tr style=\"text-align: right;\">\n",
       "      <th></th>\n",
       "      <th>GENDER</th>\n",
       "      <th>CAR</th>\n",
       "      <th>REALITY</th>\n",
       "      <th>NO_OF_CHILD</th>\n",
       "      <th>INCOME</th>\n",
       "      <th>INCOME_TYPE</th>\n",
       "      <th>EDUCATION_TYPE</th>\n",
       "      <th>FAMILY_TYPE</th>\n",
       "      <th>HOUSE_TYPE</th>\n",
       "      <th>WORK_PHONE</th>\n",
       "      <th>PHONE</th>\n",
       "      <th>E_MAIL</th>\n",
       "      <th>FAMILY SIZE</th>\n",
       "      <th>BEGIN_MONTH</th>\n",
       "      <th>AGE</th>\n",
       "      <th>YEARS_EMPLOYED</th>\n",
       "      <th>TARGET</th>\n",
       "    </tr>\n",
       "  </thead>\n",
       "  <tbody>\n",
       "    <tr>\n",
       "      <th>0</th>\n",
       "      <td>M</td>\n",
       "      <td>Y</td>\n",
       "      <td>Y</td>\n",
       "      <td>0</td>\n",
       "      <td>112500.0</td>\n",
       "      <td>Working</td>\n",
       "      <td>Secondary / secondary special</td>\n",
       "      <td>Married</td>\n",
       "      <td>House / apartment</td>\n",
       "      <td>0</td>\n",
       "      <td>0</td>\n",
       "      <td>0</td>\n",
       "      <td>2</td>\n",
       "      <td>29</td>\n",
       "      <td>59</td>\n",
       "      <td>3</td>\n",
       "      <td>0</td>\n",
       "    </tr>\n",
       "    <tr>\n",
       "      <th>1</th>\n",
       "      <td>F</td>\n",
       "      <td>N</td>\n",
       "      <td>Y</td>\n",
       "      <td>0</td>\n",
       "      <td>270000.0</td>\n",
       "      <td>Commercial associate</td>\n",
       "      <td>Secondary / secondary special</td>\n",
       "      <td>Single / not married</td>\n",
       "      <td>House / apartment</td>\n",
       "      <td>0</td>\n",
       "      <td>1</td>\n",
       "      <td>1</td>\n",
       "      <td>1</td>\n",
       "      <td>4</td>\n",
       "      <td>52</td>\n",
       "      <td>8</td>\n",
       "      <td>0</td>\n",
       "    </tr>\n",
       "    <tr>\n",
       "      <th>2</th>\n",
       "      <td>F</td>\n",
       "      <td>N</td>\n",
       "      <td>Y</td>\n",
       "      <td>0</td>\n",
       "      <td>270000.0</td>\n",
       "      <td>Commercial associate</td>\n",
       "      <td>Secondary / secondary special</td>\n",
       "      <td>Single / not married</td>\n",
       "      <td>House / apartment</td>\n",
       "      <td>0</td>\n",
       "      <td>1</td>\n",
       "      <td>1</td>\n",
       "      <td>1</td>\n",
       "      <td>26</td>\n",
       "      <td>52</td>\n",
       "      <td>8</td>\n",
       "      <td>0</td>\n",
       "    </tr>\n",
       "    <tr>\n",
       "      <th>4</th>\n",
       "      <td>F</td>\n",
       "      <td>N</td>\n",
       "      <td>Y</td>\n",
       "      <td>0</td>\n",
       "      <td>270000.0</td>\n",
       "      <td>Commercial associate</td>\n",
       "      <td>Secondary / secondary special</td>\n",
       "      <td>Single / not married</td>\n",
       "      <td>House / apartment</td>\n",
       "      <td>0</td>\n",
       "      <td>1</td>\n",
       "      <td>1</td>\n",
       "      <td>1</td>\n",
       "      <td>38</td>\n",
       "      <td>52</td>\n",
       "      <td>8</td>\n",
       "      <td>0</td>\n",
       "    </tr>\n",
       "    <tr>\n",
       "      <th>5</th>\n",
       "      <td>M</td>\n",
       "      <td>Y</td>\n",
       "      <td>Y</td>\n",
       "      <td>0</td>\n",
       "      <td>270000.0</td>\n",
       "      <td>Working</td>\n",
       "      <td>Higher education</td>\n",
       "      <td>Married</td>\n",
       "      <td>House / apartment</td>\n",
       "      <td>1</td>\n",
       "      <td>1</td>\n",
       "      <td>1</td>\n",
       "      <td>2</td>\n",
       "      <td>5</td>\n",
       "      <td>46</td>\n",
       "      <td>2</td>\n",
       "      <td>0</td>\n",
       "    </tr>\n",
       "  </tbody>\n",
       "</table>\n",
       "</div>"
      ],
      "text/plain": [
       "  GENDER CAR REALITY  NO_OF_CHILD    INCOME           INCOME_TYPE  \\\n",
       "0      M   Y       Y            0  112500.0               Working   \n",
       "1      F   N       Y            0  270000.0  Commercial associate   \n",
       "2      F   N       Y            0  270000.0  Commercial associate   \n",
       "4      F   N       Y            0  270000.0  Commercial associate   \n",
       "5      M   Y       Y            0  270000.0               Working   \n",
       "\n",
       "                  EDUCATION_TYPE           FAMILY_TYPE         HOUSE_TYPE  \\\n",
       "0  Secondary / secondary special               Married  House / apartment   \n",
       "1  Secondary / secondary special  Single / not married  House / apartment   \n",
       "2  Secondary / secondary special  Single / not married  House / apartment   \n",
       "4  Secondary / secondary special  Single / not married  House / apartment   \n",
       "5               Higher education               Married  House / apartment   \n",
       "\n",
       "   WORK_PHONE  PHONE  E_MAIL  FAMILY SIZE  BEGIN_MONTH  AGE  YEARS_EMPLOYED  \\\n",
       "0           0      0       0            2           29   59               3   \n",
       "1           0      1       1            1            4   52               8   \n",
       "2           0      1       1            1           26   52               8   \n",
       "4           0      1       1            1           38   52               8   \n",
       "5           1      1       1            2            5   46               2   \n",
       "\n",
       "   TARGET  \n",
       "0       0  \n",
       "1       0  \n",
       "2       0  \n",
       "4       0  \n",
       "5       0  "
      ]
     },
     "execution_count": 271,
     "metadata": {},
     "output_type": "execute_result"
    }
   ],
   "source": [
    "# Dropping the duplicates \n",
    "Credit = Credit.drop_duplicates() \n",
    "Credit.head(5) "
   ]
  },
  {
   "cell_type": "code",
   "execution_count": 272,
   "id": "141349f6",
   "metadata": {},
   "outputs": [
    {
     "data": {
      "text/plain": [
       "(22196, 17)"
      ]
     },
     "execution_count": 272,
     "metadata": {},
     "output_type": "execute_result"
    }
   ],
   "source": [
    "#checking shape of data after removing duplicated rows\n",
    "Credit.shape"
   ]
  },
  {
   "cell_type": "code",
   "execution_count": 273,
   "id": "9634c2a5",
   "metadata": {},
   "outputs": [],
   "source": [
    "#heart dataset has 8 countries of the eurozone.\n",
    "#Credit[\"FLAG_MOBIL\"].unique()"
   ]
  },
  {
   "cell_type": "code",
   "execution_count": 274,
   "id": "c421d01a",
   "metadata": {},
   "outputs": [
    {
     "data": {
      "text/plain": [
       "Text(0.5, 1.0, 'Box plot of Target by Income')"
      ]
     },
     "execution_count": 274,
     "metadata": {},
     "output_type": "execute_result"
    },
    {
     "data": {
      "image/png": "[encoded data removed]",
      "text/plain": [
       "<Figure size 400x600 with 1 Axes>"
      ]
     },
     "metadata": {},
     "output_type": "display_data"
    }
   ],
   "source": [
    "# Visualizing the results of the test through a Boxplot:\n",
    "sns.set(rc={\"figure.figsize\":(4, 6)})\n",
    "sns.boxplot(data=Credit, x=\"TARGET\", y=\"INCOME\")\n",
    "plt.title('Box plot of Target by Income',\n",
    "          fontsize=13)"
   ]
  },
  {
   "cell_type": "code",
   "execution_count": 275,
   "id": "c7af9554",
   "metadata": {},
   "outputs": [
    {
     "data": {
      "text/plain": [
       "0    21788\n",
       "1      408\n",
       "Name: TARGET, dtype: int64"
      ]
     },
     "execution_count": 275,
     "metadata": {},
     "output_type": "execute_result"
    }
   ],
   "source": [
    "# Number of units of activity on site \"Yes\" or \"No\" to check amounts on bar chart on previous step.\n",
    "Credit[\"TARGET\"].value_counts()\n",
    "# Where 0 is legitimate transactions\n",
    "# Where 1 is fraud transactions"
   ]
  },
  {
   "cell_type": "code",
   "execution_count": 276,
   "id": "d53dc34c",
   "metadata": {},
   "outputs": [
    {
     "data": {
      "text/plain": [
       "<matplotlib.legend.Legend at 0x1c53b6fdf10>"
      ]
     },
     "execution_count": 276,
     "metadata": {},
     "output_type": "execute_result"
    },
    {
     "data": {
      "image/png": "[encoded data removed]",
      "text/plain": [
       "<Figure size 500x500 with 1 Axes>"
      ]
     },
     "metadata": {},
     "output_type": "display_data"
    }
   ],
   "source": [
    "# Bar chart with the units with Activity on site. There are 219 with no activity and 174 with activity on site.\n",
    "sns.catplot(x=\"TARGET\", data=Credit, kind=\"count\");\n",
    "plt.title(\"Distribution Target variable\")\n",
    "plt.legend([\"No Fraud\", \"Fraud\"])"
   ]
  },
  {
   "cell_type": "code",
   "execution_count": 277,
   "id": "75467404",
   "metadata": {},
   "outputs": [
    {
     "data": {
      "text/html": [
       "<div>\n",
       "<style scoped>\n",
       "    .dataframe tbody tr th:only-of-type {\n",
       "        vertical-align: middle;\n",
       "    }\n",
       "\n",
       "    .dataframe tbody tr th {\n",
       "        vertical-align: top;\n",
       "    }\n",
       "\n",
       "    .dataframe thead th {\n",
       "        text-align: right;\n",
       "    }\n",
       "</style>\n",
       "<table border=\"1\" class=\"dataframe\">\n",
       "  <thead>\n",
       "    <tr style=\"text-align: right;\">\n",
       "      <th></th>\n",
       "      <th>NO_OF_CHILD</th>\n",
       "      <th>INCOME</th>\n",
       "      <th>WORK_PHONE</th>\n",
       "      <th>PHONE</th>\n",
       "      <th>E_MAIL</th>\n",
       "      <th>FAMILY SIZE</th>\n",
       "      <th>BEGIN_MONTH</th>\n",
       "      <th>AGE</th>\n",
       "      <th>YEARS_EMPLOYED</th>\n",
       "      <th>TARGET</th>\n",
       "    </tr>\n",
       "  </thead>\n",
       "  <tbody>\n",
       "    <tr>\n",
       "      <th>count</th>\n",
       "      <td>22196.000000</td>\n",
       "      <td>2.219600e+04</td>\n",
       "      <td>22196.000000</td>\n",
       "      <td>22196.000000</td>\n",
       "      <td>22196.000000</td>\n",
       "      <td>22196.000000</td>\n",
       "      <td>22196.000000</td>\n",
       "      <td>22196.000000</td>\n",
       "      <td>22196.000000</td>\n",
       "      <td>22196.000000</td>\n",
       "    </tr>\n",
       "    <tr>\n",
       "      <th>mean</th>\n",
       "      <td>0.514147</td>\n",
       "      <td>1.938834e+05</td>\n",
       "      <td>0.274148</td>\n",
       "      <td>0.292215</td>\n",
       "      <td>0.100964</td>\n",
       "      <td>2.295774</td>\n",
       "      <td>25.988151</td>\n",
       "      <td>40.515048</td>\n",
       "      <td>7.189043</td>\n",
       "      <td>0.018382</td>\n",
       "    </tr>\n",
       "    <tr>\n",
       "      <th>std</th>\n",
       "      <td>0.792126</td>\n",
       "      <td>1.032757e+05</td>\n",
       "      <td>0.446094</td>\n",
       "      <td>0.454791</td>\n",
       "      <td>0.301288</td>\n",
       "      <td>0.951238</td>\n",
       "      <td>16.393403</td>\n",
       "      <td>9.598411</td>\n",
       "      <td>6.423988</td>\n",
       "      <td>0.134330</td>\n",
       "    </tr>\n",
       "    <tr>\n",
       "      <th>min</th>\n",
       "      <td>0.000000</td>\n",
       "      <td>2.700000e+04</td>\n",
       "      <td>0.000000</td>\n",
       "      <td>0.000000</td>\n",
       "      <td>0.000000</td>\n",
       "      <td>1.000000</td>\n",
       "      <td>0.000000</td>\n",
       "      <td>21.000000</td>\n",
       "      <td>0.000000</td>\n",
       "      <td>0.000000</td>\n",
       "    </tr>\n",
       "    <tr>\n",
       "      <th>25%</th>\n",
       "      <td>0.000000</td>\n",
       "      <td>1.350000e+05</td>\n",
       "      <td>0.000000</td>\n",
       "      <td>0.000000</td>\n",
       "      <td>0.000000</td>\n",
       "      <td>2.000000</td>\n",
       "      <td>12.000000</td>\n",
       "      <td>33.000000</td>\n",
       "      <td>3.000000</td>\n",
       "      <td>0.000000</td>\n",
       "    </tr>\n",
       "    <tr>\n",
       "      <th>50%</th>\n",
       "      <td>0.000000</td>\n",
       "      <td>1.800000e+05</td>\n",
       "      <td>0.000000</td>\n",
       "      <td>0.000000</td>\n",
       "      <td>0.000000</td>\n",
       "      <td>2.000000</td>\n",
       "      <td>24.000000</td>\n",
       "      <td>40.000000</td>\n",
       "      <td>5.000000</td>\n",
       "      <td>0.000000</td>\n",
       "    </tr>\n",
       "    <tr>\n",
       "      <th>75%</th>\n",
       "      <td>1.000000</td>\n",
       "      <td>2.250000e+05</td>\n",
       "      <td>1.000000</td>\n",
       "      <td>1.000000</td>\n",
       "      <td>0.000000</td>\n",
       "      <td>3.000000</td>\n",
       "      <td>39.000000</td>\n",
       "      <td>48.000000</td>\n",
       "      <td>10.000000</td>\n",
       "      <td>0.000000</td>\n",
       "    </tr>\n",
       "    <tr>\n",
       "      <th>max</th>\n",
       "      <td>19.000000</td>\n",
       "      <td>1.575000e+06</td>\n",
       "      <td>1.000000</td>\n",
       "      <td>1.000000</td>\n",
       "      <td>1.000000</td>\n",
       "      <td>20.000000</td>\n",
       "      <td>60.000000</td>\n",
       "      <td>67.000000</td>\n",
       "      <td>43.000000</td>\n",
       "      <td>1.000000</td>\n",
       "    </tr>\n",
       "  </tbody>\n",
       "</table>\n",
       "</div>"
      ],
      "text/plain": [
       "        NO_OF_CHILD        INCOME    WORK_PHONE         PHONE        E_MAIL  \\\n",
       "count  22196.000000  2.219600e+04  22196.000000  22196.000000  22196.000000   \n",
       "mean       0.514147  1.938834e+05      0.274148      0.292215      0.100964   \n",
       "std        0.792126  1.032757e+05      0.446094      0.454791      0.301288   \n",
       "min        0.000000  2.700000e+04      0.000000      0.000000      0.000000   \n",
       "25%        0.000000  1.350000e+05      0.000000      0.000000      0.000000   \n",
       "50%        0.000000  1.800000e+05      0.000000      0.000000      0.000000   \n",
       "75%        1.000000  2.250000e+05      1.000000      1.000000      0.000000   \n",
       "max       19.000000  1.575000e+06      1.000000      1.000000      1.000000   \n",
       "\n",
       "        FAMILY SIZE   BEGIN_MONTH           AGE  YEARS_EMPLOYED        TARGET  \n",
       "count  22196.000000  22196.000000  22196.000000    22196.000000  22196.000000  \n",
       "mean       2.295774     25.988151     40.515048        7.189043      0.018382  \n",
       "std        0.951238     16.393403      9.598411        6.423988      0.134330  \n",
       "min        1.000000      0.000000     21.000000        0.000000      0.000000  \n",
       "25%        2.000000     12.000000     33.000000        3.000000      0.000000  \n",
       "50%        2.000000     24.000000     40.000000        5.000000      0.000000  \n",
       "75%        3.000000     39.000000     48.000000       10.000000      0.000000  \n",
       "max       20.000000     60.000000     67.000000       43.000000      1.000000  "
      ]
     },
     "execution_count": 277,
     "metadata": {},
     "output_type": "execute_result"
    }
   ],
   "source": [
    "#Checking summary statistics on dataset\n",
    "Credit.describe()"
   ]
  },
  {
   "cell_type": "code",
   "execution_count": 278,
   "id": "70be6fd7",
   "metadata": {},
   "outputs": [
    {
     "name": "stdout",
     "output_type": "stream",
     "text": [
      "                NO_OF_CHILD    INCOME  WORK_PHONE     PHONE    E_MAIL  \\\n",
      "NO_OF_CHILD        1.000000 -0.015480   -0.012187 -0.018729 -0.019106   \n",
      "INCOME            -0.015480  1.000000   -0.092074  0.011872  0.078619   \n",
      "WORK_PHONE        -0.012187 -0.092074    1.000000  0.366623 -0.068844   \n",
      "PHONE             -0.018729  0.011872    0.366623  1.000000  0.007611   \n",
      "E_MAIL            -0.019106  0.078619   -0.068844  0.007611  1.000000   \n",
      "FAMILY SIZE        0.902875 -0.023896    0.004695 -0.007227 -0.013493   \n",
      "BEGIN_MONTH       -0.004073  0.021485    0.010610  0.019150 -0.008944   \n",
      "AGE               -0.253394  0.062280   -0.040386  0.024373 -0.064115   \n",
      "YEARS_EMPLOYED    -0.063576  0.016444    0.009051  0.043255 -0.043709   \n",
      "TARGET            -0.001597  0.009076    0.006878  0.003523  0.000898   \n",
      "\n",
      "                FAMILY SIZE  BEGIN_MONTH       AGE  YEARS_EMPLOYED    TARGET  \n",
      "NO_OF_CHILD        0.902875    -0.004073 -0.253394       -0.063576 -0.001597  \n",
      "INCOME            -0.023896     0.021485  0.062280        0.016444  0.009076  \n",
      "WORK_PHONE         0.004695     0.010610 -0.040386        0.009051  0.006878  \n",
      "PHONE             -0.007227     0.019150  0.024373        0.043255  0.003523  \n",
      "E_MAIL            -0.013493    -0.008944 -0.064115       -0.043709  0.000898  \n",
      "FAMILY SIZE        1.000000     0.015827 -0.210987       -0.046576 -0.006938  \n",
      "BEGIN_MONTH        0.015827     1.000000  0.092630        0.088952  0.064159  \n",
      "AGE               -0.210987     0.092630  1.000000        0.342146 -0.007064  \n",
      "YEARS_EMPLOYED    -0.046576     0.088952  0.342146        1.000000 -0.033996  \n",
      "TARGET            -0.006938     0.064159 -0.007064       -0.033996  1.000000  \n"
     ]
    }
   ],
   "source": [
    "# Checking the correlation between variables\n",
    "correlation = Credit.corr()\n",
    "print(correlation)"
   ]
  },
  {
   "cell_type": "code",
   "execution_count": 279,
   "id": "83d3569e",
   "metadata": {},
   "outputs": [
    {
     "data": {
      "image/png": "[encoded data removed]",
      "text/plain": [
       "<Figure size 1500x500 with 2 Axes>"
      ]
     },
     "metadata": {},
     "output_type": "display_data"
    }
   ],
   "source": [
    "# Finding the relations between the variables through a heat map\n",
    "plt.figure(figsize=(15,5)) \n",
    "c= Credit.corr() \n",
    "sns.heatmap(c,cmap=\"BrBG\",annot=True) \n",
    "plt.title(\"Correlation between variables for Credit\");\n",
    "# There is a strong correlation of 0.9 between No_Of_Child and Family_Size. There is a weak correlation of 0.016 between \n",
    "# Income and Year employed. As well as that, there is a negative correlation of -0.019 between No. of Child and Phone variable. \n",
    "# "
   ]
  },
  {
   "cell_type": "code",
   "execution_count": 280,
   "id": "fb9788c2",
   "metadata": {},
   "outputs": [
    {
     "data": {
      "image/png": "[encoded data removed]",
      "text/plain": [
       "<Figure size 800x400 with 1 Axes>"
      ]
     },
     "metadata": {},
     "output_type": "display_data"
    }
   ],
   "source": [
    "#Ploting a scatter plot to stablish if there is any correlation between two variables\n",
    "\n",
    "fig, ax = plt.subplots(figsize=(8,4)) \n",
    "#sns.set_style('whitegrid')\n",
    "ax.scatter(Credit['NO_OF_CHILD'], Credit['FAMILY SIZE']) \n",
    "ax.set_xlabel('NO_OF_CHILD') \n",
    "ax.set_ylabel('FAMILY SIZE') \n",
    "plt.title(\"Correlation between No of Child and Family Size\");\n",
    "plt.show() "
   ]
  },
  {
   "cell_type": "code",
   "execution_count": 281,
   "id": "1424ddc9",
   "metadata": {
    "scrolled": false
   },
   "outputs": [
    {
     "data": {
      "image/png": "[encoded data removed]",
      "text/plain": [
       "<Figure size 500x500 with 1 Axes>"
      ]
     },
     "metadata": {},
     "output_type": "display_data"
    }
   ],
   "source": [
    "# Visualizing the Income variable\n",
    "# It can be seen that data is positive skewed in this feature.\n",
    "sns.set(rc={\"figure.figsize\":(3, 1)})\n",
    "sns.displot(data=Credit, x=\"INCOME\", kde=True);\n",
    "plt.title(\"Income variable data shape\");"
   ]
  },
  {
   "cell_type": "code",
   "execution_count": 282,
   "id": "41c6a919",
   "metadata": {},
   "outputs": [
    {
     "data": {
      "image/png": "[encoded data removed]",
      "text/plain": [
       "<Figure size 500x500 with 1 Axes>"
      ]
     },
     "metadata": {},
     "output_type": "display_data"
    }
   ],
   "source": [
    "# Visualizing the Age variable\n",
    "# It can be seen that data is positive skewed in this feature.\n",
    "sns.set(rc={\"figure.figsize\":(4, 1)})\n",
    "sns.displot(data=Credit, x=\"AGE\", kde=True);\n",
    "plt.title(\"Age feature data shape\");"
   ]
  },
  {
   "cell_type": "markdown",
   "id": "6c03f33f",
   "metadata": {},
   "source": [
    "## Outliers detection"
   ]
  },
  {
   "cell_type": "code",
   "execution_count": 283,
   "id": "688e85c3",
   "metadata": {},
   "outputs": [
    {
     "data": {
      "image/png": "[encoded data removed]",
      "text/plain": [
       "<Figure size 400x300 with 1 Axes>"
      ]
     },
     "metadata": {},
     "output_type": "display_data"
    }
   ],
   "source": [
    "# Detecting Outliers\n",
    "# As it can be seen below, there are ouliers in three of the numeric variables of my dataset.\n",
    "sns.set(rc={\"figure.figsize\":(4, 3)})\n",
    "sns.boxplot(x=Credit['INCOME']); \n",
    "plt.title(\"Income outliers\");"
   ]
  },
  {
   "cell_type": "code",
   "execution_count": 284,
   "id": "87fc3b75",
   "metadata": {},
   "outputs": [],
   "source": [
    "#Checking outliers in others variables\n",
    "col_dict = {'NO_OF_CHILD':1 , 'INCOME':2 ,\n",
    "        'FAMILY SIZE':3 , 'AGE': 4, 'YEARS_EMPLOYED':5}"
   ]
  },
  {
   "cell_type": "code",
   "execution_count": 285,
   "id": "72001995",
   "metadata": {},
   "outputs": [
    {
     "data": {
      "image/png": "[encoded data removed]",
      "text/plain": [
       "<Figure size 2000x3000 with 5 Axes>"
      ]
     },
     "metadata": {},
     "output_type": "display_data"
    }
   ],
   "source": [
    "from matplotlib import pyplot as plt\n",
    "import matplotlib.pyplot as plt \n",
    "plt.figure(figsize=(20,30))\n",
    "\n",
    "for variable,i in col_dict.items():\n",
    "                     plt.subplot(5,4,i)\n",
    "                     plt.boxplot(Credit[variable],whis=1.5)\n",
    "                     plt.title(variable)\n",
    "\n",
    "plt.show()"
   ]
  },
  {
   "cell_type": "markdown",
   "id": "c50d7142",
   "metadata": {},
   "source": [
    "## Machine Learning section \n",
    "\n",
    "Deep learning models have been used since there are able to read complex patherns in the data and therefore make more accurate predictions that standard machine learning models. Taking this in consideration, a Random Forest Classifier will be compared with a ANN to verify their performance on the same given data."
   ]
  },
  {
   "cell_type": "markdown",
   "id": "4cf26a43",
   "metadata": {},
   "source": [
    "## **Data Preparation**"
   ]
  },
  {
   "cell_type": "code",
   "execution_count": 286,
   "id": "cb2abfee",
   "metadata": {},
   "outputs": [
    {
     "name": "stdout",
     "output_type": "stream",
     "text": [
      "<class 'pandas.core.frame.DataFrame'>\n",
      "Int64Index: 22196 entries, 0 to 25133\n",
      "Data columns (total 17 columns):\n",
      " #   Column          Non-Null Count  Dtype  \n",
      "---  ------          --------------  -----  \n",
      " 0   GENDER          22196 non-null  object \n",
      " 1   CAR             22196 non-null  object \n",
      " 2   REALITY         22196 non-null  object \n",
      " 3   NO_OF_CHILD     22196 non-null  int64  \n",
      " 4   INCOME          22196 non-null  float64\n",
      " 5   INCOME_TYPE     22196 non-null  object \n",
      " 6   EDUCATION_TYPE  22196 non-null  object \n",
      " 7   FAMILY_TYPE     22196 non-null  object \n",
      " 8   HOUSE_TYPE      22196 non-null  object \n",
      " 9   WORK_PHONE      22196 non-null  int64  \n",
      " 10  PHONE           22196 non-null  int64  \n",
      " 11  E_MAIL          22196 non-null  int64  \n",
      " 12  FAMILY SIZE     22196 non-null  int64  \n",
      " 13  BEGIN_MONTH     22196 non-null  int64  \n",
      " 14  AGE             22196 non-null  int64  \n",
      " 15  YEARS_EMPLOYED  22196 non-null  int64  \n",
      " 16  TARGET          22196 non-null  int64  \n",
      "dtypes: float64(1), int64(9), object(7)\n",
      "memory usage: 3.6+ MB\n"
     ]
    }
   ],
   "source": [
    "Credit.info()"
   ]
  },
  {
   "cell_type": "code",
   "execution_count": 287,
   "id": "87e77209",
   "metadata": {},
   "outputs": [],
   "source": [
    "# split into X and y\n",
    "X = Credit.loc[:, ['GENDER', 'CAR', 'REALITY', 'NO_OF_CHILD', 'INCOME', 'INCOME_TYPE', 'EDUCATION_TYPE', 'FAMILY_TYPE', 'HOUSE_TYPE','WORK_PHONE', 'PHONE', 'E_MAIL','FAMILY SIZE', 'BEGIN_MONTH', 'AGE','YEARS_EMPLOYED']] # independent variables\n",
    "\n",
    "y = Credit['TARGET']# dependent variables"
   ]
  },
  {
   "cell_type": "code",
   "execution_count": 288,
   "id": "aa5ca29b",
   "metadata": {
    "scrolled": true
   },
   "outputs": [
    {
     "data": {
      "text/html": [
       "<div>\n",
       "<style scoped>\n",
       "    .dataframe tbody tr th:only-of-type {\n",
       "        vertical-align: middle;\n",
       "    }\n",
       "\n",
       "    .dataframe tbody tr th {\n",
       "        vertical-align: top;\n",
       "    }\n",
       "\n",
       "    .dataframe thead th {\n",
       "        text-align: right;\n",
       "    }\n",
       "</style>\n",
       "<table border=\"1\" class=\"dataframe\">\n",
       "  <thead>\n",
       "    <tr style=\"text-align: right;\">\n",
       "      <th></th>\n",
       "      <th>GENDER</th>\n",
       "      <th>CAR</th>\n",
       "      <th>REALITY</th>\n",
       "      <th>NO_OF_CHILD</th>\n",
       "      <th>INCOME</th>\n",
       "      <th>INCOME_TYPE</th>\n",
       "      <th>EDUCATION_TYPE</th>\n",
       "      <th>FAMILY_TYPE</th>\n",
       "      <th>HOUSE_TYPE</th>\n",
       "      <th>WORK_PHONE</th>\n",
       "      <th>PHONE</th>\n",
       "      <th>E_MAIL</th>\n",
       "      <th>FAMILY SIZE</th>\n",
       "      <th>BEGIN_MONTH</th>\n",
       "      <th>AGE</th>\n",
       "      <th>YEARS_EMPLOYED</th>\n",
       "    </tr>\n",
       "  </thead>\n",
       "  <tbody>\n",
       "    <tr>\n",
       "      <th>0</th>\n",
       "      <td>M</td>\n",
       "      <td>Y</td>\n",
       "      <td>Y</td>\n",
       "      <td>0</td>\n",
       "      <td>112500.0</td>\n",
       "      <td>Working</td>\n",
       "      <td>Secondary / secondary special</td>\n",
       "      <td>Married</td>\n",
       "      <td>House / apartment</td>\n",
       "      <td>0</td>\n",
       "      <td>0</td>\n",
       "      <td>0</td>\n",
       "      <td>2</td>\n",
       "      <td>29</td>\n",
       "      <td>59</td>\n",
       "      <td>3</td>\n",
       "    </tr>\n",
       "    <tr>\n",
       "      <th>1</th>\n",
       "      <td>F</td>\n",
       "      <td>N</td>\n",
       "      <td>Y</td>\n",
       "      <td>0</td>\n",
       "      <td>270000.0</td>\n",
       "      <td>Commercial associate</td>\n",
       "      <td>Secondary / secondary special</td>\n",
       "      <td>Single / not married</td>\n",
       "      <td>House / apartment</td>\n",
       "      <td>0</td>\n",
       "      <td>1</td>\n",
       "      <td>1</td>\n",
       "      <td>1</td>\n",
       "      <td>4</td>\n",
       "      <td>52</td>\n",
       "      <td>8</td>\n",
       "    </tr>\n",
       "    <tr>\n",
       "      <th>2</th>\n",
       "      <td>F</td>\n",
       "      <td>N</td>\n",
       "      <td>Y</td>\n",
       "      <td>0</td>\n",
       "      <td>270000.0</td>\n",
       "      <td>Commercial associate</td>\n",
       "      <td>Secondary / secondary special</td>\n",
       "      <td>Single / not married</td>\n",
       "      <td>House / apartment</td>\n",
       "      <td>0</td>\n",
       "      <td>1</td>\n",
       "      <td>1</td>\n",
       "      <td>1</td>\n",
       "      <td>26</td>\n",
       "      <td>52</td>\n",
       "      <td>8</td>\n",
       "    </tr>\n",
       "    <tr>\n",
       "      <th>4</th>\n",
       "      <td>F</td>\n",
       "      <td>N</td>\n",
       "      <td>Y</td>\n",
       "      <td>0</td>\n",
       "      <td>270000.0</td>\n",
       "      <td>Commercial associate</td>\n",
       "      <td>Secondary / secondary special</td>\n",
       "      <td>Single / not married</td>\n",
       "      <td>House / apartment</td>\n",
       "      <td>0</td>\n",
       "      <td>1</td>\n",
       "      <td>1</td>\n",
       "      <td>1</td>\n",
       "      <td>38</td>\n",
       "      <td>52</td>\n",
       "      <td>8</td>\n",
       "    </tr>\n",
       "    <tr>\n",
       "      <th>5</th>\n",
       "      <td>M</td>\n",
       "      <td>Y</td>\n",
       "      <td>Y</td>\n",
       "      <td>0</td>\n",
       "      <td>270000.0</td>\n",
       "      <td>Working</td>\n",
       "      <td>Higher education</td>\n",
       "      <td>Married</td>\n",
       "      <td>House / apartment</td>\n",
       "      <td>1</td>\n",
       "      <td>1</td>\n",
       "      <td>1</td>\n",
       "      <td>2</td>\n",
       "      <td>5</td>\n",
       "      <td>46</td>\n",
       "      <td>2</td>\n",
       "    </tr>\n",
       "    <tr>\n",
       "      <th>...</th>\n",
       "      <td>...</td>\n",
       "      <td>...</td>\n",
       "      <td>...</td>\n",
       "      <td>...</td>\n",
       "      <td>...</td>\n",
       "      <td>...</td>\n",
       "      <td>...</td>\n",
       "      <td>...</td>\n",
       "      <td>...</td>\n",
       "      <td>...</td>\n",
       "      <td>...</td>\n",
       "      <td>...</td>\n",
       "      <td>...</td>\n",
       "      <td>...</td>\n",
       "      <td>...</td>\n",
       "      <td>...</td>\n",
       "    </tr>\n",
       "    <tr>\n",
       "      <th>25129</th>\n",
       "      <td>M</td>\n",
       "      <td>Y</td>\n",
       "      <td>Y</td>\n",
       "      <td>0</td>\n",
       "      <td>315000.0</td>\n",
       "      <td>Working</td>\n",
       "      <td>Secondary / secondary special</td>\n",
       "      <td>Married</td>\n",
       "      <td>House / apartment</td>\n",
       "      <td>0</td>\n",
       "      <td>0</td>\n",
       "      <td>0</td>\n",
       "      <td>2</td>\n",
       "      <td>11</td>\n",
       "      <td>48</td>\n",
       "      <td>7</td>\n",
       "    </tr>\n",
       "    <tr>\n",
       "      <th>25130</th>\n",
       "      <td>F</td>\n",
       "      <td>N</td>\n",
       "      <td>Y</td>\n",
       "      <td>0</td>\n",
       "      <td>157500.0</td>\n",
       "      <td>Commercial associate</td>\n",
       "      <td>Higher education</td>\n",
       "      <td>Married</td>\n",
       "      <td>House / apartment</td>\n",
       "      <td>0</td>\n",
       "      <td>1</td>\n",
       "      <td>1</td>\n",
       "      <td>2</td>\n",
       "      <td>23</td>\n",
       "      <td>34</td>\n",
       "      <td>4</td>\n",
       "    </tr>\n",
       "    <tr>\n",
       "      <th>25131</th>\n",
       "      <td>F</td>\n",
       "      <td>N</td>\n",
       "      <td>Y</td>\n",
       "      <td>0</td>\n",
       "      <td>157500.0</td>\n",
       "      <td>Pensioner</td>\n",
       "      <td>Higher education</td>\n",
       "      <td>Married</td>\n",
       "      <td>House / apartment</td>\n",
       "      <td>0</td>\n",
       "      <td>1</td>\n",
       "      <td>1</td>\n",
       "      <td>2</td>\n",
       "      <td>32</td>\n",
       "      <td>34</td>\n",
       "      <td>4</td>\n",
       "    </tr>\n",
       "    <tr>\n",
       "      <th>25132</th>\n",
       "      <td>F</td>\n",
       "      <td>N</td>\n",
       "      <td>Y</td>\n",
       "      <td>0</td>\n",
       "      <td>283500.0</td>\n",
       "      <td>Working</td>\n",
       "      <td>Secondary / secondary special</td>\n",
       "      <td>Married</td>\n",
       "      <td>House / apartment</td>\n",
       "      <td>0</td>\n",
       "      <td>0</td>\n",
       "      <td>0</td>\n",
       "      <td>2</td>\n",
       "      <td>9</td>\n",
       "      <td>49</td>\n",
       "      <td>2</td>\n",
       "    </tr>\n",
       "    <tr>\n",
       "      <th>25133</th>\n",
       "      <td>M</td>\n",
       "      <td>N</td>\n",
       "      <td>Y</td>\n",
       "      <td>0</td>\n",
       "      <td>112500.0</td>\n",
       "      <td>Working</td>\n",
       "      <td>Secondary / secondary special</td>\n",
       "      <td>Single / not married</td>\n",
       "      <td>Rented apartment</td>\n",
       "      <td>0</td>\n",
       "      <td>0</td>\n",
       "      <td>0</td>\n",
       "      <td>1</td>\n",
       "      <td>13</td>\n",
       "      <td>25</td>\n",
       "      <td>3</td>\n",
       "    </tr>\n",
       "  </tbody>\n",
       "</table>\n",
       "<p>22196 rows × 16 columns</p>\n",
       "</div>"
      ],
      "text/plain": [
       "      GENDER CAR REALITY  NO_OF_CHILD    INCOME           INCOME_TYPE  \\\n",
       "0          M   Y       Y            0  112500.0               Working   \n",
       "1          F   N       Y            0  270000.0  Commercial associate   \n",
       "2          F   N       Y            0  270000.0  Commercial associate   \n",
       "4          F   N       Y            0  270000.0  Commercial associate   \n",
       "5          M   Y       Y            0  270000.0               Working   \n",
       "...      ...  ..     ...          ...       ...                   ...   \n",
       "25129      M   Y       Y            0  315000.0               Working   \n",
       "25130      F   N       Y            0  157500.0  Commercial associate   \n",
       "25131      F   N       Y            0  157500.0             Pensioner   \n",
       "25132      F   N       Y            0  283500.0               Working   \n",
       "25133      M   N       Y            0  112500.0               Working   \n",
       "\n",
       "                      EDUCATION_TYPE           FAMILY_TYPE         HOUSE_TYPE  \\\n",
       "0      Secondary / secondary special               Married  House / apartment   \n",
       "1      Secondary / secondary special  Single / not married  House / apartment   \n",
       "2      Secondary / secondary special  Single / not married  House / apartment   \n",
       "4      Secondary / secondary special  Single / not married  House / apartment   \n",
       "5                   Higher education               Married  House / apartment   \n",
       "...                              ...                   ...                ...   \n",
       "25129  Secondary / secondary special               Married  House / apartment   \n",
       "25130               Higher education               Married  House / apartment   \n",
       "25131               Higher education               Married  House / apartment   \n",
       "25132  Secondary / secondary special               Married  House / apartment   \n",
       "25133  Secondary / secondary special  Single / not married   Rented apartment   \n",
       "\n",
       "       WORK_PHONE  PHONE  E_MAIL  FAMILY SIZE  BEGIN_MONTH  AGE  \\\n",
       "0               0      0       0            2           29   59   \n",
       "1               0      1       1            1            4   52   \n",
       "2               0      1       1            1           26   52   \n",
       "4               0      1       1            1           38   52   \n",
       "5               1      1       1            2            5   46   \n",
       "...           ...    ...     ...          ...          ...  ...   \n",
       "25129           0      0       0            2           11   48   \n",
       "25130           0      1       1            2           23   34   \n",
       "25131           0      1       1            2           32   34   \n",
       "25132           0      0       0            2            9   49   \n",
       "25133           0      0       0            1           13   25   \n",
       "\n",
       "       YEARS_EMPLOYED  \n",
       "0                   3  \n",
       "1                   8  \n",
       "2                   8  \n",
       "4                   8  \n",
       "5                   2  \n",
       "...               ...  \n",
       "25129               7  \n",
       "25130               4  \n",
       "25131               4  \n",
       "25132               2  \n",
       "25133               3  \n",
       "\n",
       "[22196 rows x 16 columns]"
      ]
     },
     "execution_count": 288,
     "metadata": {},
     "output_type": "execute_result"
    }
   ],
   "source": [
    "X"
   ]
  },
  {
   "cell_type": "code",
   "execution_count": 289,
   "id": "3c75c89d",
   "metadata": {
    "scrolled": true
   },
   "outputs": [
    {
     "data": {
      "text/plain": [
       "0        0\n",
       "1        0\n",
       "2        0\n",
       "4        0\n",
       "5        0\n",
       "        ..\n",
       "25129    1\n",
       "25130    1\n",
       "25131    1\n",
       "25132    1\n",
       "25133    1\n",
       "Name: TARGET, Length: 22196, dtype: int64"
      ]
     },
     "execution_count": 289,
     "metadata": {},
     "output_type": "execute_result"
    }
   ],
   "source": [
    "y"
   ]
  },
  {
   "cell_type": "code",
   "execution_count": 290,
   "id": "1eb1af3a",
   "metadata": {
    "scrolled": true
   },
   "outputs": [
    {
     "data": {
      "text/html": [
       "<div>\n",
       "<style scoped>\n",
       "    .dataframe tbody tr th:only-of-type {\n",
       "        vertical-align: middle;\n",
       "    }\n",
       "\n",
       "    .dataframe tbody tr th {\n",
       "        vertical-align: top;\n",
       "    }\n",
       "\n",
       "    .dataframe thead th {\n",
       "        text-align: right;\n",
       "    }\n",
       "</style>\n",
       "<table border=\"1\" class=\"dataframe\">\n",
       "  <thead>\n",
       "    <tr style=\"text-align: right;\">\n",
       "      <th></th>\n",
       "      <th>GENDER</th>\n",
       "      <th>CAR</th>\n",
       "      <th>REALITY</th>\n",
       "      <th>INCOME_TYPE</th>\n",
       "      <th>EDUCATION_TYPE</th>\n",
       "      <th>FAMILY_TYPE</th>\n",
       "      <th>HOUSE_TYPE</th>\n",
       "    </tr>\n",
       "  </thead>\n",
       "  <tbody>\n",
       "    <tr>\n",
       "      <th>0</th>\n",
       "      <td>M</td>\n",
       "      <td>Y</td>\n",
       "      <td>Y</td>\n",
       "      <td>Working</td>\n",
       "      <td>Secondary / secondary special</td>\n",
       "      <td>Married</td>\n",
       "      <td>House / apartment</td>\n",
       "    </tr>\n",
       "    <tr>\n",
       "      <th>1</th>\n",
       "      <td>F</td>\n",
       "      <td>N</td>\n",
       "      <td>Y</td>\n",
       "      <td>Commercial associate</td>\n",
       "      <td>Secondary / secondary special</td>\n",
       "      <td>Single / not married</td>\n",
       "      <td>House / apartment</td>\n",
       "    </tr>\n",
       "    <tr>\n",
       "      <th>2</th>\n",
       "      <td>F</td>\n",
       "      <td>N</td>\n",
       "      <td>Y</td>\n",
       "      <td>Commercial associate</td>\n",
       "      <td>Secondary / secondary special</td>\n",
       "      <td>Single / not married</td>\n",
       "      <td>House / apartment</td>\n",
       "    </tr>\n",
       "    <tr>\n",
       "      <th>4</th>\n",
       "      <td>F</td>\n",
       "      <td>N</td>\n",
       "      <td>Y</td>\n",
       "      <td>Commercial associate</td>\n",
       "      <td>Secondary / secondary special</td>\n",
       "      <td>Single / not married</td>\n",
       "      <td>House / apartment</td>\n",
       "    </tr>\n",
       "    <tr>\n",
       "      <th>5</th>\n",
       "      <td>M</td>\n",
       "      <td>Y</td>\n",
       "      <td>Y</td>\n",
       "      <td>Working</td>\n",
       "      <td>Higher education</td>\n",
       "      <td>Married</td>\n",
       "      <td>House / apartment</td>\n",
       "    </tr>\n",
       "  </tbody>\n",
       "</table>\n",
       "</div>"
      ],
      "text/plain": [
       "  GENDER CAR REALITY           INCOME_TYPE                 EDUCATION_TYPE  \\\n",
       "0      M   Y       Y               Working  Secondary / secondary special   \n",
       "1      F   N       Y  Commercial associate  Secondary / secondary special   \n",
       "2      F   N       Y  Commercial associate  Secondary / secondary special   \n",
       "4      F   N       Y  Commercial associate  Secondary / secondary special   \n",
       "5      M   Y       Y               Working               Higher education   \n",
       "\n",
       "            FAMILY_TYPE         HOUSE_TYPE  \n",
       "0               Married  House / apartment  \n",
       "1  Single / not married  House / apartment  \n",
       "2  Single / not married  House / apartment  \n",
       "4  Single / not married  House / apartment  \n",
       "5               Married  House / apartment  "
      ]
     },
     "execution_count": 290,
     "metadata": {},
     "output_type": "execute_result"
    }
   ],
   "source": [
    "# creating dummy variables for categorical variables\n",
    "\n",
    "# subset all categorical variables\n",
    "Credit_categorical = X.select_dtypes(include=['object'])\n",
    "Credit_categorical.head()"
   ]
  },
  {
   "cell_type": "code",
   "execution_count": 291,
   "id": "a530a398",
   "metadata": {
    "scrolled": true
   },
   "outputs": [
    {
     "data": {
      "text/html": [
       "<div>\n",
       "<style scoped>\n",
       "    .dataframe tbody tr th:only-of-type {\n",
       "        vertical-align: middle;\n",
       "    }\n",
       "\n",
       "    .dataframe tbody tr th {\n",
       "        vertical-align: top;\n",
       "    }\n",
       "\n",
       "    .dataframe thead th {\n",
       "        text-align: right;\n",
       "    }\n",
       "</style>\n",
       "<table border=\"1\" class=\"dataframe\">\n",
       "  <thead>\n",
       "    <tr style=\"text-align: right;\">\n",
       "      <th></th>\n",
       "      <th>GENDER</th>\n",
       "      <th>CAR</th>\n",
       "      <th>REALITY</th>\n",
       "      <th>INCOME_TYPE</th>\n",
       "      <th>EDUCATION_TYPE</th>\n",
       "      <th>FAMILY_TYPE</th>\n",
       "      <th>HOUSE_TYPE</th>\n",
       "    </tr>\n",
       "  </thead>\n",
       "  <tbody>\n",
       "    <tr>\n",
       "      <th>count</th>\n",
       "      <td>22196</td>\n",
       "      <td>22196</td>\n",
       "      <td>22196</td>\n",
       "      <td>22196</td>\n",
       "      <td>22196</td>\n",
       "      <td>22196</td>\n",
       "      <td>22196</td>\n",
       "    </tr>\n",
       "    <tr>\n",
       "      <th>unique</th>\n",
       "      <td>2</td>\n",
       "      <td>2</td>\n",
       "      <td>2</td>\n",
       "      <td>5</td>\n",
       "      <td>5</td>\n",
       "      <td>5</td>\n",
       "      <td>6</td>\n",
       "    </tr>\n",
       "    <tr>\n",
       "      <th>top</th>\n",
       "      <td>F</td>\n",
       "      <td>N</td>\n",
       "      <td>Y</td>\n",
       "      <td>Working</td>\n",
       "      <td>Secondary / secondary special</td>\n",
       "      <td>Married</td>\n",
       "      <td>House / apartment</td>\n",
       "    </tr>\n",
       "    <tr>\n",
       "      <th>freq</th>\n",
       "      <td>13771</td>\n",
       "      <td>12921</td>\n",
       "      <td>14540</td>\n",
       "      <td>13784</td>\n",
       "      <td>14850</td>\n",
       "      <td>15450</td>\n",
       "      <td>19519</td>\n",
       "    </tr>\n",
       "  </tbody>\n",
       "</table>\n",
       "</div>"
      ],
      "text/plain": [
       "       GENDER    CAR REALITY INCOME_TYPE                 EDUCATION_TYPE  \\\n",
       "count   22196  22196   22196       22196                          22196   \n",
       "unique      2      2       2           5                              5   \n",
       "top         F      N       Y     Working  Secondary / secondary special   \n",
       "freq    13771  12921   14540       13784                          14850   \n",
       "\n",
       "       FAMILY_TYPE         HOUSE_TYPE  \n",
       "count        22196              22196  \n",
       "unique           5                  6  \n",
       "top        Married  House / apartment  \n",
       "freq         15450              19519  "
      ]
     },
     "execution_count": 291,
     "metadata": {},
     "output_type": "execute_result"
    }
   ],
   "source": [
    "#checking categorical values on that dataset\n",
    "Credit_categorical.describe(include=object)"
   ]
  },
  {
   "cell_type": "code",
   "execution_count": 292,
   "id": "4bca8932",
   "metadata": {},
   "outputs": [
    {
     "data": {
      "text/html": [
       "<div>\n",
       "<style scoped>\n",
       "    .dataframe tbody tr th:only-of-type {\n",
       "        vertical-align: middle;\n",
       "    }\n",
       "\n",
       "    .dataframe tbody tr th {\n",
       "        vertical-align: top;\n",
       "    }\n",
       "\n",
       "    .dataframe thead th {\n",
       "        text-align: right;\n",
       "    }\n",
       "</style>\n",
       "<table border=\"1\" class=\"dataframe\">\n",
       "  <thead>\n",
       "    <tr style=\"text-align: right;\">\n",
       "      <th></th>\n",
       "      <th>GENDER_M</th>\n",
       "      <th>CAR_Y</th>\n",
       "      <th>REALITY_Y</th>\n",
       "      <th>INCOME_TYPE_Pensioner</th>\n",
       "      <th>INCOME_TYPE_State servant</th>\n",
       "      <th>INCOME_TYPE_Student</th>\n",
       "      <th>INCOME_TYPE_Working</th>\n",
       "      <th>EDUCATION_TYPE_Higher education</th>\n",
       "      <th>EDUCATION_TYPE_Incomplete higher</th>\n",
       "      <th>EDUCATION_TYPE_Lower secondary</th>\n",
       "      <th>EDUCATION_TYPE_Secondary / secondary special</th>\n",
       "      <th>FAMILY_TYPE_Married</th>\n",
       "      <th>FAMILY_TYPE_Separated</th>\n",
       "      <th>FAMILY_TYPE_Single / not married</th>\n",
       "      <th>FAMILY_TYPE_Widow</th>\n",
       "      <th>HOUSE_TYPE_House / apartment</th>\n",
       "      <th>HOUSE_TYPE_Municipal apartment</th>\n",
       "      <th>HOUSE_TYPE_Office apartment</th>\n",
       "      <th>HOUSE_TYPE_Rented apartment</th>\n",
       "      <th>HOUSE_TYPE_With parents</th>\n",
       "    </tr>\n",
       "  </thead>\n",
       "  <tbody>\n",
       "    <tr>\n",
       "      <th>0</th>\n",
       "      <td>1</td>\n",
       "      <td>1</td>\n",
       "      <td>1</td>\n",
       "      <td>0</td>\n",
       "      <td>0</td>\n",
       "      <td>0</td>\n",
       "      <td>1</td>\n",
       "      <td>0</td>\n",
       "      <td>0</td>\n",
       "      <td>0</td>\n",
       "      <td>1</td>\n",
       "      <td>1</td>\n",
       "      <td>0</td>\n",
       "      <td>0</td>\n",
       "      <td>0</td>\n",
       "      <td>1</td>\n",
       "      <td>0</td>\n",
       "      <td>0</td>\n",
       "      <td>0</td>\n",
       "      <td>0</td>\n",
       "    </tr>\n",
       "    <tr>\n",
       "      <th>1</th>\n",
       "      <td>0</td>\n",
       "      <td>0</td>\n",
       "      <td>1</td>\n",
       "      <td>0</td>\n",
       "      <td>0</td>\n",
       "      <td>0</td>\n",
       "      <td>0</td>\n",
       "      <td>0</td>\n",
       "      <td>0</td>\n",
       "      <td>0</td>\n",
       "      <td>1</td>\n",
       "      <td>0</td>\n",
       "      <td>0</td>\n",
       "      <td>1</td>\n",
       "      <td>0</td>\n",
       "      <td>1</td>\n",
       "      <td>0</td>\n",
       "      <td>0</td>\n",
       "      <td>0</td>\n",
       "      <td>0</td>\n",
       "    </tr>\n",
       "    <tr>\n",
       "      <th>2</th>\n",
       "      <td>0</td>\n",
       "      <td>0</td>\n",
       "      <td>1</td>\n",
       "      <td>0</td>\n",
       "      <td>0</td>\n",
       "      <td>0</td>\n",
       "      <td>0</td>\n",
       "      <td>0</td>\n",
       "      <td>0</td>\n",
       "      <td>0</td>\n",
       "      <td>1</td>\n",
       "      <td>0</td>\n",
       "      <td>0</td>\n",
       "      <td>1</td>\n",
       "      <td>0</td>\n",
       "      <td>1</td>\n",
       "      <td>0</td>\n",
       "      <td>0</td>\n",
       "      <td>0</td>\n",
       "      <td>0</td>\n",
       "    </tr>\n",
       "    <tr>\n",
       "      <th>4</th>\n",
       "      <td>0</td>\n",
       "      <td>0</td>\n",
       "      <td>1</td>\n",
       "      <td>0</td>\n",
       "      <td>0</td>\n",
       "      <td>0</td>\n",
       "      <td>0</td>\n",
       "      <td>0</td>\n",
       "      <td>0</td>\n",
       "      <td>0</td>\n",
       "      <td>1</td>\n",
       "      <td>0</td>\n",
       "      <td>0</td>\n",
       "      <td>1</td>\n",
       "      <td>0</td>\n",
       "      <td>1</td>\n",
       "      <td>0</td>\n",
       "      <td>0</td>\n",
       "      <td>0</td>\n",
       "      <td>0</td>\n",
       "    </tr>\n",
       "    <tr>\n",
       "      <th>5</th>\n",
       "      <td>1</td>\n",
       "      <td>1</td>\n",
       "      <td>1</td>\n",
       "      <td>0</td>\n",
       "      <td>0</td>\n",
       "      <td>0</td>\n",
       "      <td>1</td>\n",
       "      <td>1</td>\n",
       "      <td>0</td>\n",
       "      <td>0</td>\n",
       "      <td>0</td>\n",
       "      <td>1</td>\n",
       "      <td>0</td>\n",
       "      <td>0</td>\n",
       "      <td>0</td>\n",
       "      <td>1</td>\n",
       "      <td>0</td>\n",
       "      <td>0</td>\n",
       "      <td>0</td>\n",
       "      <td>0</td>\n",
       "    </tr>\n",
       "  </tbody>\n",
       "</table>\n",
       "</div>"
      ],
      "text/plain": [
       "   GENDER_M  CAR_Y  REALITY_Y  INCOME_TYPE_Pensioner  \\\n",
       "0         1      1          1                      0   \n",
       "1         0      0          1                      0   \n",
       "2         0      0          1                      0   \n",
       "4         0      0          1                      0   \n",
       "5         1      1          1                      0   \n",
       "\n",
       "   INCOME_TYPE_State servant  INCOME_TYPE_Student  INCOME_TYPE_Working  \\\n",
       "0                          0                    0                    1   \n",
       "1                          0                    0                    0   \n",
       "2                          0                    0                    0   \n",
       "4                          0                    0                    0   \n",
       "5                          0                    0                    1   \n",
       "\n",
       "   EDUCATION_TYPE_Higher education  EDUCATION_TYPE_Incomplete higher  \\\n",
       "0                                0                                 0   \n",
       "1                                0                                 0   \n",
       "2                                0                                 0   \n",
       "4                                0                                 0   \n",
       "5                                1                                 0   \n",
       "\n",
       "   EDUCATION_TYPE_Lower secondary  \\\n",
       "0                               0   \n",
       "1                               0   \n",
       "2                               0   \n",
       "4                               0   \n",
       "5                               0   \n",
       "\n",
       "   EDUCATION_TYPE_Secondary / secondary special  FAMILY_TYPE_Married  \\\n",
       "0                                             1                    1   \n",
       "1                                             1                    0   \n",
       "2                                             1                    0   \n",
       "4                                             1                    0   \n",
       "5                                             0                    1   \n",
       "\n",
       "   FAMILY_TYPE_Separated  FAMILY_TYPE_Single / not married  FAMILY_TYPE_Widow  \\\n",
       "0                      0                                 0                  0   \n",
       "1                      0                                 1                  0   \n",
       "2                      0                                 1                  0   \n",
       "4                      0                                 1                  0   \n",
       "5                      0                                 0                  0   \n",
       "\n",
       "   HOUSE_TYPE_House / apartment  HOUSE_TYPE_Municipal apartment  \\\n",
       "0                             1                               0   \n",
       "1                             1                               0   \n",
       "2                             1                               0   \n",
       "4                             1                               0   \n",
       "5                             1                               0   \n",
       "\n",
       "   HOUSE_TYPE_Office apartment  HOUSE_TYPE_Rented apartment  \\\n",
       "0                            0                            0   \n",
       "1                            0                            0   \n",
       "2                            0                            0   \n",
       "4                            0                            0   \n",
       "5                            0                            0   \n",
       "\n",
       "   HOUSE_TYPE_With parents  \n",
       "0                        0  \n",
       "1                        0  \n",
       "2                        0  \n",
       "4                        0  \n",
       "5                        0  "
      ]
     },
     "execution_count": 292,
     "metadata": {},
     "output_type": "execute_result"
    }
   ],
   "source": [
    "# convert into dummies\n",
    "Credit_dummies = pd.get_dummies(Credit_categorical, drop_first=True)\n",
    "Credit_dummies.head()"
   ]
  },
  {
   "cell_type": "code",
   "execution_count": 293,
   "id": "778f9731",
   "metadata": {},
   "outputs": [],
   "source": [
    "# drop categorical variables \n",
    "X = X.drop(list(Credit_categorical.columns), axis=1)"
   ]
  },
  {
   "cell_type": "code",
   "execution_count": 294,
   "id": "756469d9",
   "metadata": {},
   "outputs": [],
   "source": [
    "# concat dummy variables with X\n",
    "# concat the dummy variable with the main wiht construction dataframe\n",
    "X = pd.concat([X, Credit_dummies], axis=1)"
   ]
  },
  {
   "cell_type": "code",
   "execution_count": 295,
   "id": "a8909dc8",
   "metadata": {
    "scrolled": true
   },
   "outputs": [
    {
     "data": {
      "text/html": [
       "<div>\n",
       "<style scoped>\n",
       "    .dataframe tbody tr th:only-of-type {\n",
       "        vertical-align: middle;\n",
       "    }\n",
       "\n",
       "    .dataframe tbody tr th {\n",
       "        vertical-align: top;\n",
       "    }\n",
       "\n",
       "    .dataframe thead th {\n",
       "        text-align: right;\n",
       "    }\n",
       "</style>\n",
       "<table border=\"1\" class=\"dataframe\">\n",
       "  <thead>\n",
       "    <tr style=\"text-align: right;\">\n",
       "      <th></th>\n",
       "      <th>NO_OF_CHILD</th>\n",
       "      <th>INCOME</th>\n",
       "      <th>WORK_PHONE</th>\n",
       "      <th>PHONE</th>\n",
       "      <th>E_MAIL</th>\n",
       "      <th>FAMILY SIZE</th>\n",
       "      <th>BEGIN_MONTH</th>\n",
       "      <th>AGE</th>\n",
       "      <th>YEARS_EMPLOYED</th>\n",
       "      <th>GENDER_M</th>\n",
       "      <th>...</th>\n",
       "      <th>EDUCATION_TYPE_Secondary / secondary special</th>\n",
       "      <th>FAMILY_TYPE_Married</th>\n",
       "      <th>FAMILY_TYPE_Separated</th>\n",
       "      <th>FAMILY_TYPE_Single / not married</th>\n",
       "      <th>FAMILY_TYPE_Widow</th>\n",
       "      <th>HOUSE_TYPE_House / apartment</th>\n",
       "      <th>HOUSE_TYPE_Municipal apartment</th>\n",
       "      <th>HOUSE_TYPE_Office apartment</th>\n",
       "      <th>HOUSE_TYPE_Rented apartment</th>\n",
       "      <th>HOUSE_TYPE_With parents</th>\n",
       "    </tr>\n",
       "  </thead>\n",
       "  <tbody>\n",
       "    <tr>\n",
       "      <th>0</th>\n",
       "      <td>0</td>\n",
       "      <td>112500.0</td>\n",
       "      <td>0</td>\n",
       "      <td>0</td>\n",
       "      <td>0</td>\n",
       "      <td>2</td>\n",
       "      <td>29</td>\n",
       "      <td>59</td>\n",
       "      <td>3</td>\n",
       "      <td>1</td>\n",
       "      <td>...</td>\n",
       "      <td>1</td>\n",
       "      <td>1</td>\n",
       "      <td>0</td>\n",
       "      <td>0</td>\n",
       "      <td>0</td>\n",
       "      <td>1</td>\n",
       "      <td>0</td>\n",
       "      <td>0</td>\n",
       "      <td>0</td>\n",
       "      <td>0</td>\n",
       "    </tr>\n",
       "    <tr>\n",
       "      <th>1</th>\n",
       "      <td>0</td>\n",
       "      <td>270000.0</td>\n",
       "      <td>0</td>\n",
       "      <td>1</td>\n",
       "      <td>1</td>\n",
       "      <td>1</td>\n",
       "      <td>4</td>\n",
       "      <td>52</td>\n",
       "      <td>8</td>\n",
       "      <td>0</td>\n",
       "      <td>...</td>\n",
       "      <td>1</td>\n",
       "      <td>0</td>\n",
       "      <td>0</td>\n",
       "      <td>1</td>\n",
       "      <td>0</td>\n",
       "      <td>1</td>\n",
       "      <td>0</td>\n",
       "      <td>0</td>\n",
       "      <td>0</td>\n",
       "      <td>0</td>\n",
       "    </tr>\n",
       "    <tr>\n",
       "      <th>2</th>\n",
       "      <td>0</td>\n",
       "      <td>270000.0</td>\n",
       "      <td>0</td>\n",
       "      <td>1</td>\n",
       "      <td>1</td>\n",
       "      <td>1</td>\n",
       "      <td>26</td>\n",
       "      <td>52</td>\n",
       "      <td>8</td>\n",
       "      <td>0</td>\n",
       "      <td>...</td>\n",
       "      <td>1</td>\n",
       "      <td>0</td>\n",
       "      <td>0</td>\n",
       "      <td>1</td>\n",
       "      <td>0</td>\n",
       "      <td>1</td>\n",
       "      <td>0</td>\n",
       "      <td>0</td>\n",
       "      <td>0</td>\n",
       "      <td>0</td>\n",
       "    </tr>\n",
       "    <tr>\n",
       "      <th>4</th>\n",
       "      <td>0</td>\n",
       "      <td>270000.0</td>\n",
       "      <td>0</td>\n",
       "      <td>1</td>\n",
       "      <td>1</td>\n",
       "      <td>1</td>\n",
       "      <td>38</td>\n",
       "      <td>52</td>\n",
       "      <td>8</td>\n",
       "      <td>0</td>\n",
       "      <td>...</td>\n",
       "      <td>1</td>\n",
       "      <td>0</td>\n",
       "      <td>0</td>\n",
       "      <td>1</td>\n",
       "      <td>0</td>\n",
       "      <td>1</td>\n",
       "      <td>0</td>\n",
       "      <td>0</td>\n",
       "      <td>0</td>\n",
       "      <td>0</td>\n",
       "    </tr>\n",
       "    <tr>\n",
       "      <th>5</th>\n",
       "      <td>0</td>\n",
       "      <td>270000.0</td>\n",
       "      <td>1</td>\n",
       "      <td>1</td>\n",
       "      <td>1</td>\n",
       "      <td>2</td>\n",
       "      <td>5</td>\n",
       "      <td>46</td>\n",
       "      <td>2</td>\n",
       "      <td>1</td>\n",
       "      <td>...</td>\n",
       "      <td>0</td>\n",
       "      <td>1</td>\n",
       "      <td>0</td>\n",
       "      <td>0</td>\n",
       "      <td>0</td>\n",
       "      <td>1</td>\n",
       "      <td>0</td>\n",
       "      <td>0</td>\n",
       "      <td>0</td>\n",
       "      <td>0</td>\n",
       "    </tr>\n",
       "    <tr>\n",
       "      <th>...</th>\n",
       "      <td>...</td>\n",
       "      <td>...</td>\n",
       "      <td>...</td>\n",
       "      <td>...</td>\n",
       "      <td>...</td>\n",
       "      <td>...</td>\n",
       "      <td>...</td>\n",
       "      <td>...</td>\n",
       "      <td>...</td>\n",
       "      <td>...</td>\n",
       "      <td>...</td>\n",
       "      <td>...</td>\n",
       "      <td>...</td>\n",
       "      <td>...</td>\n",
       "      <td>...</td>\n",
       "      <td>...</td>\n",
       "      <td>...</td>\n",
       "      <td>...</td>\n",
       "      <td>...</td>\n",
       "      <td>...</td>\n",
       "      <td>...</td>\n",
       "    </tr>\n",
       "    <tr>\n",
       "      <th>25129</th>\n",
       "      <td>0</td>\n",
       "      <td>315000.0</td>\n",
       "      <td>0</td>\n",
       "      <td>0</td>\n",
       "      <td>0</td>\n",
       "      <td>2</td>\n",
       "      <td>11</td>\n",
       "      <td>48</td>\n",
       "      <td>7</td>\n",
       "      <td>1</td>\n",
       "      <td>...</td>\n",
       "      <td>1</td>\n",
       "      <td>1</td>\n",
       "      <td>0</td>\n",
       "      <td>0</td>\n",
       "      <td>0</td>\n",
       "      <td>1</td>\n",
       "      <td>0</td>\n",
       "      <td>0</td>\n",
       "      <td>0</td>\n",
       "      <td>0</td>\n",
       "    </tr>\n",
       "    <tr>\n",
       "      <th>25130</th>\n",
       "      <td>0</td>\n",
       "      <td>157500.0</td>\n",
       "      <td>0</td>\n",
       "      <td>1</td>\n",
       "      <td>1</td>\n",
       "      <td>2</td>\n",
       "      <td>23</td>\n",
       "      <td>34</td>\n",
       "      <td>4</td>\n",
       "      <td>0</td>\n",
       "      <td>...</td>\n",
       "      <td>0</td>\n",
       "      <td>1</td>\n",
       "      <td>0</td>\n",
       "      <td>0</td>\n",
       "      <td>0</td>\n",
       "      <td>1</td>\n",
       "      <td>0</td>\n",
       "      <td>0</td>\n",
       "      <td>0</td>\n",
       "      <td>0</td>\n",
       "    </tr>\n",
       "    <tr>\n",
       "      <th>25131</th>\n",
       "      <td>0</td>\n",
       "      <td>157500.0</td>\n",
       "      <td>0</td>\n",
       "      <td>1</td>\n",
       "      <td>1</td>\n",
       "      <td>2</td>\n",
       "      <td>32</td>\n",
       "      <td>34</td>\n",
       "      <td>4</td>\n",
       "      <td>0</td>\n",
       "      <td>...</td>\n",
       "      <td>0</td>\n",
       "      <td>1</td>\n",
       "      <td>0</td>\n",
       "      <td>0</td>\n",
       "      <td>0</td>\n",
       "      <td>1</td>\n",
       "      <td>0</td>\n",
       "      <td>0</td>\n",
       "      <td>0</td>\n",
       "      <td>0</td>\n",
       "    </tr>\n",
       "    <tr>\n",
       "      <th>25132</th>\n",
       "      <td>0</td>\n",
       "      <td>283500.0</td>\n",
       "      <td>0</td>\n",
       "      <td>0</td>\n",
       "      <td>0</td>\n",
       "      <td>2</td>\n",
       "      <td>9</td>\n",
       "      <td>49</td>\n",
       "      <td>2</td>\n",
       "      <td>0</td>\n",
       "      <td>...</td>\n",
       "      <td>1</td>\n",
       "      <td>1</td>\n",
       "      <td>0</td>\n",
       "      <td>0</td>\n",
       "      <td>0</td>\n",
       "      <td>1</td>\n",
       "      <td>0</td>\n",
       "      <td>0</td>\n",
       "      <td>0</td>\n",
       "      <td>0</td>\n",
       "    </tr>\n",
       "    <tr>\n",
       "      <th>25133</th>\n",
       "      <td>0</td>\n",
       "      <td>112500.0</td>\n",
       "      <td>0</td>\n",
       "      <td>0</td>\n",
       "      <td>0</td>\n",
       "      <td>1</td>\n",
       "      <td>13</td>\n",
       "      <td>25</td>\n",
       "      <td>3</td>\n",
       "      <td>1</td>\n",
       "      <td>...</td>\n",
       "      <td>1</td>\n",
       "      <td>0</td>\n",
       "      <td>0</td>\n",
       "      <td>1</td>\n",
       "      <td>0</td>\n",
       "      <td>0</td>\n",
       "      <td>0</td>\n",
       "      <td>0</td>\n",
       "      <td>1</td>\n",
       "      <td>0</td>\n",
       "    </tr>\n",
       "  </tbody>\n",
       "</table>\n",
       "<p>22196 rows × 29 columns</p>\n",
       "</div>"
      ],
      "text/plain": [
       "       NO_OF_CHILD    INCOME  WORK_PHONE  PHONE  E_MAIL  FAMILY SIZE  \\\n",
       "0                0  112500.0           0      0       0            2   \n",
       "1                0  270000.0           0      1       1            1   \n",
       "2                0  270000.0           0      1       1            1   \n",
       "4                0  270000.0           0      1       1            1   \n",
       "5                0  270000.0           1      1       1            2   \n",
       "...            ...       ...         ...    ...     ...          ...   \n",
       "25129            0  315000.0           0      0       0            2   \n",
       "25130            0  157500.0           0      1       1            2   \n",
       "25131            0  157500.0           0      1       1            2   \n",
       "25132            0  283500.0           0      0       0            2   \n",
       "25133            0  112500.0           0      0       0            1   \n",
       "\n",
       "       BEGIN_MONTH  AGE  YEARS_EMPLOYED  GENDER_M  ...  \\\n",
       "0               29   59               3         1  ...   \n",
       "1                4   52               8         0  ...   \n",
       "2               26   52               8         0  ...   \n",
       "4               38   52               8         0  ...   \n",
       "5                5   46               2         1  ...   \n",
       "...            ...  ...             ...       ...  ...   \n",
       "25129           11   48               7         1  ...   \n",
       "25130           23   34               4         0  ...   \n",
       "25131           32   34               4         0  ...   \n",
       "25132            9   49               2         0  ...   \n",
       "25133           13   25               3         1  ...   \n",
       "\n",
       "       EDUCATION_TYPE_Secondary / secondary special  FAMILY_TYPE_Married  \\\n",
       "0                                                 1                    1   \n",
       "1                                                 1                    0   \n",
       "2                                                 1                    0   \n",
       "4                                                 1                    0   \n",
       "5                                                 0                    1   \n",
       "...                                             ...                  ...   \n",
       "25129                                             1                    1   \n",
       "25130                                             0                    1   \n",
       "25131                                             0                    1   \n",
       "25132                                             1                    1   \n",
       "25133                                             1                    0   \n",
       "\n",
       "       FAMILY_TYPE_Separated  FAMILY_TYPE_Single / not married  \\\n",
       "0                          0                                 0   \n",
       "1                          0                                 1   \n",
       "2                          0                                 1   \n",
       "4                          0                                 1   \n",
       "5                          0                                 0   \n",
       "...                      ...                               ...   \n",
       "25129                      0                                 0   \n",
       "25130                      0                                 0   \n",
       "25131                      0                                 0   \n",
       "25132                      0                                 0   \n",
       "25133                      0                                 1   \n",
       "\n",
       "       FAMILY_TYPE_Widow  HOUSE_TYPE_House / apartment  \\\n",
       "0                      0                             1   \n",
       "1                      0                             1   \n",
       "2                      0                             1   \n",
       "4                      0                             1   \n",
       "5                      0                             1   \n",
       "...                  ...                           ...   \n",
       "25129                  0                             1   \n",
       "25130                  0                             1   \n",
       "25131                  0                             1   \n",
       "25132                  0                             1   \n",
       "25133                  0                             0   \n",
       "\n",
       "       HOUSE_TYPE_Municipal apartment  HOUSE_TYPE_Office apartment  \\\n",
       "0                                   0                            0   \n",
       "1                                   0                            0   \n",
       "2                                   0                            0   \n",
       "4                                   0                            0   \n",
       "5                                   0                            0   \n",
       "...                               ...                          ...   \n",
       "25129                               0                            0   \n",
       "25130                               0                            0   \n",
       "25131                               0                            0   \n",
       "25132                               0                            0   \n",
       "25133                               0                            0   \n",
       "\n",
       "       HOUSE_TYPE_Rented apartment  HOUSE_TYPE_With parents  \n",
       "0                                0                        0  \n",
       "1                                0                        0  \n",
       "2                                0                        0  \n",
       "4                                0                        0  \n",
       "5                                0                        0  \n",
       "...                            ...                      ...  \n",
       "25129                            0                        0  \n",
       "25130                            0                        0  \n",
       "25131                            0                        0  \n",
       "25132                            0                        0  \n",
       "25133                            1                        0  \n",
       "\n",
       "[22196 rows x 29 columns]"
      ]
     },
     "execution_count": 295,
     "metadata": {},
     "output_type": "execute_result"
    }
   ],
   "source": [
    "X"
   ]
  },
  {
   "cell_type": "code",
   "execution_count": 296,
   "id": "ee77545f",
   "metadata": {},
   "outputs": [],
   "source": [
    "# scaling the features\n",
    "#from sklearn.preprocessing import scale\n",
    "\n",
    "# storing column names in cols, since column names are lost after \n",
    "# scaling (the df is converted to a numpy array)\n",
    "#cols = X.columns\n",
    "#X = pd.DataFrame(scale(X))\n",
    "#X.columns = cols\n",
    "#X.columns"
   ]
  },
  {
   "cell_type": "code",
   "execution_count": 297,
   "id": "5c4fc896",
   "metadata": {
    "scrolled": false
   },
   "outputs": [],
   "source": [
    "# scaling the features\n",
    "#from sklearn.preprocessing import MinMaxScaler\n",
    "\n",
    "# storing column names in cols, since column names are lost after \n",
    "# scaling (the df is converted to a numpy array)\n",
    "\n",
    "#scaler = MinMaxScaler(feature_range=(0,1))\n",
    "#cols = X.columns\n",
    "#X = pd.DataFrame(scaler.fit_transform(X))\n",
    "#X.columns = cols\n",
    "#X.columns\n",
    "\n",
    "#dataset = scaler.fit_transform(dataset)"
   ]
  },
  {
   "cell_type": "code",
   "execution_count": 298,
   "id": "a1c2ddb9",
   "metadata": {},
   "outputs": [],
   "source": [
    "## performing preprocessing part\n",
    "from sklearn.preprocessing import StandardScaler\n",
    "\n",
    "# Create and initialise an object (sc) by calling a method named as StandardScaler()\n",
    "sc = StandardScaler()\n",
    "\n",
    "# Train the model by calling a method fit_transform()\n",
    "X = sc.fit_transform(X)\n",
    "\n",
    "# Transform the data into standised form\n",
    "#X_test = sc.transform(X_test)"
   ]
  },
  {
   "cell_type": "code",
   "execution_count": 299,
   "id": "cb672612",
   "metadata": {},
   "outputs": [
    {
     "data": {
      "text/plain": [
       "array([[-0.6490864 , -0.78803868, -0.61456673, ..., -0.08914572,\n",
       "        -0.13091473, -0.24717546],\n",
       "       [-0.6490864 ,  0.73703984, -0.61456673, ..., -0.08914572,\n",
       "        -0.13091473, -0.24717546],\n",
       "       [-0.6490864 ,  0.73703984, -0.61456673, ..., -0.08914572,\n",
       "        -0.13091473, -0.24717546],\n",
       "       ...,\n",
       "       [-0.6490864 , -0.35230196, -0.61456673, ..., -0.08914572,\n",
       "        -0.13091473, -0.24717546],\n",
       "       [-0.6490864 ,  0.86776085, -0.61456673, ..., -0.08914572,\n",
       "        -0.13091473, -0.24717546],\n",
       "       [-0.6490864 , -0.78803868, -0.61456673, ..., -0.08914572,\n",
       "         7.63855965, -0.24717546]])"
      ]
     },
     "execution_count": 299,
     "metadata": {},
     "output_type": "execute_result"
    }
   ],
   "source": [
    "X"
   ]
  },
  {
   "cell_type": "code",
   "execution_count": 300,
   "id": "2cc54041",
   "metadata": {},
   "outputs": [],
   "source": [
    "#checking the efect of scale in the data\n",
    "#from sklearn.preprocessing import scale\n",
    "#Credit['scale_INCOME'] = scale(Credit['INCOME'])"
   ]
  },
  {
   "cell_type": "code",
   "execution_count": 301,
   "id": "19e74642",
   "metadata": {},
   "outputs": [],
   "source": [
    "#from matplotlib import pyplot as plt\n",
    "#fig, (ax1, ax2) = plt.subplots(2,1,figsize=(8, 6))\n",
    "#fig.tight_layout(pad=3.0)\n",
    "\n",
    "#Credit['INCOME'].hist(ax=ax1, bins=100)\n",
    "#ax1.tick_params(labelsize=12)\n",
    "#ax1.set_xlabel('INCOME feature', fontsize=12)\n",
    "#ax1.set_ylabel('INCOME ', fontsize=12)\n",
    "\n",
    "#Credit['scale_INCOME'].hist(ax=ax2, bins=100)\n",
    "#ax2.tick_params(labelsize=12)\n",
    "#ax2.set_xlabel('INCOME scaled', fontsize=12)\n",
    "#ax2.set_ylabel('Amounts of INCOME', fontsize=12) "
   ]
  },
  {
   "cell_type": "code",
   "execution_count": 302,
   "id": "556f5baf",
   "metadata": {},
   "outputs": [],
   "source": [
    "# Splitting the dataset into the Training set and Test set\n",
    "from sklearn.model_selection import train_test_split\n",
    "X_train, X_test, y_train, y_test = train_test_split(X, y, test_size = 0.25, random_state = 48)"
   ]
  },
  {
   "cell_type": "code",
   "execution_count": 303,
   "id": "60dec528",
   "metadata": {},
   "outputs": [],
   "source": [
    "## performing preprocessing part\n",
    "from sklearn.preprocessing import StandardScaler\n",
    "\n",
    "# Create and initialise an object (sc) by calling a method named as StandardScaler()\n",
    "sc = StandardScaler()\n",
    "\n",
    "# Train the model by calling a method fit_transform()\n",
    "X = sc.fit_transform(X)\n",
    "\n",
    "# Transform the data into standised form\n",
    "#X_test = sc.transform(X_test)"
   ]
  },
  {
   "cell_type": "code",
   "execution_count": 321,
   "id": "fcee2611",
   "metadata": {},
   "outputs": [
    {
     "data": {
      "text/plain": [
       "array([[-0.6490864 , -0.78803868, -0.61456673, ..., -0.08914572,\n",
       "        -0.13091473, -0.24717546],\n",
       "       [-0.6490864 ,  0.73703984, -0.61456673, ..., -0.08914572,\n",
       "        -0.13091473, -0.24717546],\n",
       "       [-0.6490864 ,  0.73703984, -0.61456673, ..., -0.08914572,\n",
       "        -0.13091473, -0.24717546],\n",
       "       ...,\n",
       "       [-0.6490864 , -0.35230196, -0.61456673, ..., -0.08914572,\n",
       "        -0.13091473, -0.24717546],\n",
       "       [-0.6490864 ,  0.86776085, -0.61456673, ..., -0.08914572,\n",
       "        -0.13091473, -0.24717546],\n",
       "       [-0.6490864 , -0.78803868, -0.61456673, ..., -0.08914572,\n",
       "         7.63855965, -0.24717546]])"
      ]
     },
     "execution_count": 321,
     "metadata": {},
     "output_type": "execute_result"
    }
   ],
   "source": [
    "X"
   ]
  },
  {
   "cell_type": "code",
   "execution_count": 304,
   "id": "c553019e",
   "metadata": {},
   "outputs": [],
   "source": [
    "#normalized scaler - fit&transform on train, fit only on test\n",
    "\n",
    "#from sklearn.preprocessing import MinMaxScaler\n",
    "\n",
    "# fit scaler on training data\n",
    "#scaler = MinMaxScaler(feature_range=(0,1))\n",
    "#X = scaler.fit_transform(X)\n",
    "\n",
    "# fit scaler on training data\n",
    "#norm = MinMaxScaler().fit(X_train)\n",
    "\n",
    "# transform training data\n",
    "#X_train_norm = norm.transform(X_train)\n",
    "\n",
    "# transform testing dataabs\n",
    "#X_test_norm = norm.transform(X_test)\n"
   ]
  },
  {
   "cell_type": "code",
   "execution_count": 305,
   "id": "2422d555",
   "metadata": {},
   "outputs": [],
   "source": [
    "#print(X_train, X_test)"
   ]
  },
  {
   "cell_type": "code",
   "execution_count": 306,
   "id": "1c7314a8",
   "metadata": {},
   "outputs": [],
   "source": [
    "#scaler = MinMaxScaler(feature_range=(0,1))\n",
    "#dataset = scaler.fit_transform(dataset)"
   ]
  },
  {
   "cell_type": "code",
   "execution_count": 307,
   "id": "096f22f7",
   "metadata": {},
   "outputs": [],
   "source": [
    "#Import Random Forest Model\n",
    "from sklearn.ensemble import RandomForestClassifier\n",
    "\n",
    "#Create a Gaussian Classifier\n",
    "clf = RandomForestClassifier(n_estimators = 100)\n",
    "\n",
    "#Train the model using the training sets y_pred=clf.predict(X_test)\n",
    "clf.fit(X_train,y_train)\n",
    "\n",
    "y_pred = clf.predict(X_test)"
   ]
  },
  {
   "cell_type": "code",
   "execution_count": 308,
   "id": "9f891039",
   "metadata": {},
   "outputs": [
    {
     "name": "stdout",
     "output_type": "stream",
     "text": [
      "Accuracy: 0.9789151198414129\n"
     ]
    }
   ],
   "source": [
    "#Import scikit-learn metrics module for accuracy calculation\n",
    "from sklearn import metrics\n",
    "# Model Accuracy, how often is the classifier correct?\n",
    "print(\"Accuracy:\",metrics.accuracy_score(y_test, y_pred)) ##0.9795"
   ]
  },
  {
   "cell_type": "code",
   "execution_count": 309,
   "id": "0cb5f198",
   "metadata": {},
   "outputs": [
    {
     "name": "stdout",
     "output_type": "stream",
     "text": [
      "              precision    recall  f1-score   support\n",
      "\n",
      "           0       0.98      1.00      0.99      5442\n",
      "           1       0.33      0.09      0.15       107\n",
      "\n",
      "    accuracy                           0.98      5549\n",
      "   macro avg       0.66      0.54      0.57      5549\n",
      "weighted avg       0.97      0.98      0.97      5549\n",
      "\n"
     ]
    },
    {
     "data": {
      "image/png": "[encoded data removed]",
      "text/plain": [
       "<Figure size 400x300 with 2 Axes>"
      ]
     },
     "metadata": {},
     "output_type": "display_data"
    }
   ],
   "source": [
    "from sklearn.metrics import classification_report, confusion_matrix\n",
    "import seaborn as sns\n",
    "\n",
    "# Calculate cm by calling a method named as 'confusion_matrix'\n",
    "cm = confusion_matrix(y_test, y_pred)\n",
    "\n",
    "# Call a method heatmap() to plot confusion matrix\n",
    "sns.heatmap(cm, annot = True)\n",
    "\n",
    "# print the classification_report based on y_test and y_predict\n",
    "print(classification_report(y_test, y_pred))"
   ]
  },
  {
   "cell_type": "markdown",
   "id": "bd174129",
   "metadata": {},
   "source": [
    "## Builiding an Artificial Neural Network model (ANN)"
   ]
  },
  {
   "cell_type": "code",
   "execution_count": 310,
   "id": "2f22127a",
   "metadata": {},
   "outputs": [],
   "source": [
    "from keras.layers import Dense\n",
    "from keras.models import Sequential\n",
    "\n",
    "# Build neural network in Keras\n",
    "model = Sequential()\n",
    "\n",
    "# Add fully connected layer with a ReLU activation function\n",
    "model.add(Dense(40, input_dim=29, activation='relu', )) # 29 columns that are being taken 40\n",
    "\n",
    "# Add fully connected layer with a ReLU activation function\n",
    "model.add(Dense(10, activation='relu')) # 10\n",
    "\n",
    "# Add fully connected layer with a sigmoid activation function - Output layer\n",
    "model.add(Dense(1, activation='sigmoid')) # output layer"
   ]
  },
  {
   "cell_type": "code",
   "execution_count": 311,
   "id": "d0b568f2",
   "metadata": {},
   "outputs": [
    {
     "name": "stdout",
     "output_type": "stream",
     "text": [
      "Model: \"sequential_6\"\n",
      "_________________________________________________________________\n",
      " Layer (type)                Output Shape              Param #   \n",
      "=================================================================\n",
      " dense_18 (Dense)            (None, 40)                1200      \n",
      "                                                                 \n",
      " dense_19 (Dense)            (None, 10)                410       \n",
      "                                                                 \n",
      " dense_20 (Dense)            (None, 1)                 11        \n",
      "                                                                 \n",
      "=================================================================\n",
      "Total params: 1621 (6.33 KB)\n",
      "Trainable params: 1621 (6.33 KB)\n",
      "Non-trainable params: 0 (0.00 Byte)\n",
      "_________________________________________________________________\n"
     ]
    }
   ],
   "source": [
    "model.summary()"
   ]
  },
  {
   "cell_type": "code",
   "execution_count": 312,
   "id": "442af777",
   "metadata": {},
   "outputs": [
    {
     "data": {
      "text/plain": [
       "<keras.src.callbacks.History at 0x1c53c6bc210>"
      ]
     },
     "execution_count": 312,
     "metadata": {},
     "output_type": "execute_result"
    }
   ],
   "source": [
    "# Compile neural network\n",
    "model.compile(optimizer='adam', loss='binary_crossentropy', metrics=['accuracy']) #  adam \n",
    "model.fit(X_train, y_train, epochs=200, batch_size=100, verbose=False)"
   ]
  },
  {
   "cell_type": "code",
   "execution_count": 313,
   "id": "be33534b",
   "metadata": {},
   "outputs": [
    {
     "name": "stdout",
     "output_type": "stream",
     "text": [
      "521/521 [==============================] - 1s 945us/step - loss: 0.0273 - accuracy: 0.9900\n",
      "Training Accuracy: 99.00%\n",
      "\n",
      "174/174 [==============================] - 0s 1ms/step - loss: 0.1515 - accuracy: 0.9778\n",
      "Testing Accuracy: 97.78%\n",
      "\n"
     ]
    }
   ],
   "source": [
    "# Results - Accuracy\n",
    "scores = model.evaluate(X_train, y_train) # verbose = False)\n",
    "print(\"Training Accuracy: %.2f%%\\n\" % (scores[1] * 100))  #loss 0.0284\n",
    "\n",
    "scores = model.evaluate(X_test, y_test) # verbose = False) loss 0.1968\n",
    "print(\"Testing Accuracy: %.2f%%\\n\" % (scores[1] * 100)) #98.85"
   ]
  },
  {
   "cell_type": "code",
   "execution_count": 314,
   "id": "08681768",
   "metadata": {},
   "outputs": [
    {
     "name": "stdout",
     "output_type": "stream",
     "text": [
      "174/174 [==============================] - 0s 996us/step\n"
     ]
    },
    {
     "data": {
      "text/plain": [
       "array([[5412,   30],\n",
       "       [  93,   14]], dtype=int64)"
      ]
     },
     "execution_count": 314,
     "metadata": {},
     "output_type": "execute_result"
    }
   ],
   "source": [
    "from sklearn.metrics import confusion_matrix\n",
    "import seaborn as sns\n",
    "\n",
    "y_test_pred = model.predict(X_test)\n",
    "y_test_pred = y_test_pred.flatten()\n",
    "y_test_pred_new = np.where(y_test_pred.round(2) > 0.5, 1, 0)\n",
    "c_matrix = confusion_matrix(y_test, y_test_pred_new)\n",
    "c_matrix"
   ]
  },
  {
   "cell_type": "code",
   "execution_count": 315,
   "id": "acb7aef6",
   "metadata": {},
   "outputs": [
    {
     "name": "stdout",
     "output_type": "stream",
     "text": [
      "174/174 [==============================] - 0s 725us/step\n",
      "ANN: 0.9778338439358443\n",
      "classification_report:               precision    recall  f1-score   support\n",
      "\n",
      "           0       0.98      0.99      0.99      5442\n",
      "           1       0.32      0.13      0.19       107\n",
      "\n",
      "    accuracy                           0.98      5549\n",
      "   macro avg       0.65      0.56      0.59      5549\n",
      "weighted avg       0.97      0.98      0.97      5549\n",
      "\n",
      "f1_score: 0.18543046357615894\n",
      "precision_score: 0.3181818181818182\n",
      "recall_score: 0.1308411214953271\n"
     ]
    },
    {
     "data": {
      "image/png": "[encoded data removed]",
      "text/plain": [
       "<Figure size 400x300 with 2 Axes>"
      ]
     },
     "metadata": {},
     "output_type": "display_data"
    }
   ],
   "source": [
    "#from sklearn.metrics import confusion_matrix\n",
    "import seaborn as sns\n",
    "# Predicting the Test set results\n",
    "y_pred = model.predict(X_test).flatten().round()\n",
    "\n",
    "#Making the Confusion Matrix\n",
    "from sklearn.metrics import confusion_matrix\n",
    "cm = confusion_matrix(y_test, y_pred)\n",
    "import seaborn as sns\n",
    "sns.heatmap(cm, annot=True)\n",
    "\n",
    "#find accuracy\n",
    "from sklearn.metrics import accuracy_score\n",
    "print('ANN:',accuracy_score(y_test,y_pred))\n",
    "\n",
    "# find classification report\n",
    "from sklearn.metrics import f1_score , precision_score , recall_score , classification_report\n",
    "print('classification_report:',classification_report(y_test,y_pred))\n",
    "print('f1_score:',f1_score(y_test,y_pred))\n",
    "print('precision_score:',precision_score(y_test,y_pred))\n",
    "print('recall_score:',recall_score(y_test,y_pred))"
   ]
  },
  {
   "cell_type": "markdown",
   "id": "3a0155a8",
   "metadata": {},
   "source": [
    "**Discussion:** I had 5,549 number of transactions in my test set. Out of 5409 were predicted to be legitimate transactions, and 92 were classified as being legitimate, when  there were not (type one error). It correctly predicted 16 transactions as being product of fraud and 32 as being not legitimate ones, when they really are (type two error)."
   ]
  },
  {
   "cell_type": "code",
   "execution_count": 316,
   "id": "d3534eea",
   "metadata": {},
   "outputs": [],
   "source": [
    "# Get training and test loss histories\n",
    "history = model.fit(X_train, y_train, epochs=150, batch_size=1000, verbose=0, validation_data=(X_test, y_test))"
   ]
  },
  {
   "cell_type": "code",
   "execution_count": 317,
   "id": "7d75a5e6",
   "metadata": {},
   "outputs": [],
   "source": [
    "training_loss = history.history[\"loss\"]\n",
    "test_loss = history.history[\"val_loss\"]"
   ]
  },
  {
   "cell_type": "code",
   "execution_count": 318,
   "id": "a4f550fa",
   "metadata": {},
   "outputs": [],
   "source": [
    "# Create count of the number of epochs\n",
    "epoch_count = range(1, len(training_loss) + 1)"
   ]
  },
  {
   "cell_type": "code",
   "execution_count": 319,
   "id": "5c4c59e3",
   "metadata": {},
   "outputs": [
    {
     "data": {
      "image/png": "[encoded data removed]",
      "text/plain": [
       "<Figure size 400x300 with 1 Axes>"
      ]
     },
     "metadata": {},
     "output_type": "display_data"
    }
   ],
   "source": [
    "# Visualize loss history\n",
    "#plt.figure(figsize=(9,8))\n",
    "plt.plot(epoch_count, training_loss, \"r--\")\n",
    "plt.plot(epoch_count, test_loss, \"b-\")\n",
    "plt.legend([\"Training Loss\", \"Test Loss\"])\n",
    "plt.xlabel(\"Epoch\")\n",
    "plt.ylabel(\"Loss\")\n",
    "plt.show();"
   ]
  },
  {
   "cell_type": "markdown",
   "id": "78a86809",
   "metadata": {},
   "source": [
    "**Alternatively, we can use the same approach to visualize the training and test accuracy over each epoch**"
   ]
  },
  {
   "cell_type": "code",
   "execution_count": 320,
   "id": "ac21bf45",
   "metadata": {
    "scrolled": false
   },
   "outputs": [
    {
     "data": {
      "image/png": "[encoded data removed]",
      "text/plain": [
       "<Figure size 400x300 with 1 Axes>"
      ]
     },
     "metadata": {},
     "output_type": "display_data"
    }
   ],
   "source": [
    "# Get training and test accuracy histories\n",
    "#plt.figure(figsize=(8,6))\n",
    "training_accuracy = history.history[\"accuracy\"]\n",
    "test_accuracy = history.history[\"val_accuracy\"]\n",
    "plt.plot(epoch_count, training_accuracy, \"r--\")\n",
    "plt.plot(epoch_count, test_accuracy, \"b-\")\n",
    "\n",
    "# Visualize accuracy history\n",
    "plt.legend([\"Training Accuracy\", \"Test Accuracy\"])\n",
    "plt.xlabel(\"Epoch\")\n",
    "plt.ylabel(\"Accuracy Score\")\n",
    "plt.show();"
   ]
  },
  {
   "cell_type": "markdown",
   "id": "153b4c97",
   "metadata": {},
   "source": [
    "**Discussion:** After performing one standard machine learning model, Random Forest, it yields an accuracy of 97%. Nevertheless, after performming ANN with one hidden layer and one output layer, was able to make more accurate predictions in term of ilegal transactions.  "
   ]
  },
  {
   "cell_type": "markdown",
   "id": "db2373f5",
   "metadata": {},
   "source": [
    "https://www.kaggle.com/datasets/dark06thunder/credit-card-dataset/code"
   ]
  }
 ],
 "metadata": {
  "kernelspec": {
   "display_name": "Python 3 (ipykernel)",
   "language": "python",
   "name": "python3"
  },
  "language_info": {
   "codemirror_mode": {
    "name": "ipython",
    "version": 3
   },
   "file_extension": ".py",
   "mimetype": "text/x-python",
   "name": "python",
   "nbconvert_exporter": "python",
   "pygments_lexer": "ipython3",
   "version": "3.11.4"
  }
 },
 "nbformat": 4,
 "nbformat_minor": 5
}
